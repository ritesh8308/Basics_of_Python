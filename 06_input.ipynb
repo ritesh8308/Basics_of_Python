{
 "cells": [
  {
   "cell_type": "markdown",
   "id": "09047855-8946-4a31-929a-531a63303a37",
   "metadata": {},
   "source": [
    "# Taking input from the user"
   ]
  },
  {
   "cell_type": "code",
   "execution_count": 5,
   "id": "f883f732-8184-4359-9611-dc05dfbdb705",
   "metadata": {},
   "outputs": [
    {
     "name": "stdin",
     "output_type": "stream",
     "text": [
      "Enter the value of a 10\n"
     ]
    }
   ],
   "source": [
    "a = input(\"Enter the value of a\") # By default it takes user input as string"
   ]
  },
  {
   "cell_type": "code",
   "execution_count": 7,
   "id": "6350f2c6-06fb-4bb5-bc1c-3abf3f7cbdde",
   "metadata": {},
   "outputs": [
    {
     "data": {
      "text/plain": [
       "'10'"
      ]
     },
     "execution_count": 7,
     "metadata": {},
     "output_type": "execute_result"
    }
   ],
   "source": [
    "a"
   ]
  },
  {
   "cell_type": "code",
   "execution_count": 9,
   "id": "7ef71acb-ab9e-495a-ba91-9c1ee953b97e",
   "metadata": {},
   "outputs": [
    {
     "name": "stdin",
     "output_type": "stream",
     "text": [
      "Enter the value of b 25\n"
     ]
    }
   ],
   "source": [
    "b = input(\"Enter the value of b\")"
   ]
  },
  {
   "cell_type": "code",
   "execution_count": 11,
   "id": "c7a9c361-5673-4977-9471-a14ba0c0594d",
   "metadata": {},
   "outputs": [
    {
     "data": {
      "text/plain": [
       "'25'"
      ]
     },
     "execution_count": 11,
     "metadata": {},
     "output_type": "execute_result"
    }
   ],
   "source": [
    "b"
   ]
  },
  {
   "cell_type": "code",
   "execution_count": 13,
   "id": "8d0d3ff3-da5e-450b-a06e-f19d0c5db5ed",
   "metadata": {},
   "outputs": [
    {
     "data": {
      "text/plain": [
       "'1025'"
      ]
     },
     "execution_count": 13,
     "metadata": {},
     "output_type": "execute_result"
    }
   ],
   "source": [
    "a + b"
   ]
  },
  {
   "cell_type": "code",
   "execution_count": 15,
   "id": "918c1941-b897-4ef9-9e12-8223ddff375d",
   "metadata": {},
   "outputs": [
    {
     "data": {
      "text/plain": [
       "35"
      ]
     },
     "execution_count": 15,
     "metadata": {},
     "output_type": "execute_result"
    }
   ],
   "source": [
    "int(a) + int(b)"
   ]
  },
  {
   "cell_type": "code",
   "execution_count": 17,
   "id": "5017eed5-11ac-4167-b571-db89e73b3b79",
   "metadata": {},
   "outputs": [
    {
     "name": "stdin",
     "output_type": "stream",
     "text": [
      " 58\n"
     ]
    }
   ],
   "source": [
    "c = input()"
   ]
  },
  {
   "cell_type": "code",
   "execution_count": 19,
   "id": "43bd1ae6-cd4e-44bf-b9bc-cc031a99718c",
   "metadata": {},
   "outputs": [
    {
     "data": {
      "text/plain": [
       "'58'"
      ]
     },
     "execution_count": 19,
     "metadata": {},
     "output_type": "execute_result"
    }
   ],
   "source": [
    "c"
   ]
  },
  {
   "cell_type": "code",
   "execution_count": 23,
   "id": "9415bba3-5e4d-4313-b118-c3162d392b78",
   "metadata": {},
   "outputs": [
    {
     "name": "stdin",
     "output_type": "stream",
     "text": [
      "Enter you current age:  99\n"
     ]
    }
   ],
   "source": [
    "age = int(input(\"Enter you current age: \"))  #TypeCasting string to an Integer."
   ]
  },
  {
   "cell_type": "code",
   "execution_count": 25,
   "id": "e4e47305-cd9f-4193-bb51-e957111cef5d",
   "metadata": {},
   "outputs": [
    {
     "data": {
      "text/plain": [
       "99"
      ]
     },
     "execution_count": 25,
     "metadata": {},
     "output_type": "execute_result"
    }
   ],
   "source": [
    "age"
   ]
  },
  {
   "cell_type": "code",
   "execution_count": null,
   "id": "0fdd0cc8-a465-436b-950b-9dfe0089df3a",
   "metadata": {},
   "outputs": [],
   "source": []
  }
 ],
 "metadata": {
  "kernelspec": {
   "display_name": "Python [conda env:base] *",
   "language": "python",
   "name": "conda-base-py"
  },
  "language_info": {
   "codemirror_mode": {
    "name": "ipython",
    "version": 3
   },
   "file_extension": ".py",
   "mimetype": "text/x-python",
   "name": "python",
   "nbconvert_exporter": "python",
   "pygments_lexer": "ipython3",
   "version": "3.12.3"
  }
 },
 "nbformat": 4,
 "nbformat_minor": 5
}
