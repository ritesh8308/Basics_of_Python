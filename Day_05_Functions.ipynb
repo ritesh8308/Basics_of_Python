{
 "cells": [
  {
   "cell_type": "markdown",
   "id": "f24f1357-29bd-4f0c-ad8e-7424301c5814",
   "metadata": {},
   "source": [
    "# Day_05 : Functions"
   ]
  },
  {
   "cell_type": "markdown",
   "id": "9a5f3856-dbfc-49c4-a89c-d87de1ec56e7",
   "metadata": {},
   "source": [
    "### 🔹 What Are Functions in Python?\n",
    "\n",
    "Functions are reusable blocks of code that perform specific tasks. They help organize logic, reduce repetition, and improve clarity. A basic function is defined with the `def` keyword.\n",
    "\n",
    "```python\n",
    "def greet(name):\n",
    "    return f\"Hello, {name}!\"\n"
   ]
  },
  {
   "cell_type": "markdown",
   "id": "d071ee67-5706-4d9e-9fe7-5ca61a37abfd",
   "metadata": {},
   "source": [
    "\n",
    "---\n",
    "\n",
    "### ⚙️ Types of Functions in Python\n",
    "\n",
    "\n",
    "| Type                    | Description                                           | Example Use                |\n",
    "|-------------------------|-------------------------------------------------------|----------------------------|\n",
    "| Built-in Functions      | Predefined by Python                                  | `len()`, `print()`, `max()`|\n",
    "| User-defined Functions  | Created using `def`                                   | `def calculate(): ...`     |\n",
    "| Lambda Functions        | Anonymous one-liners using `lambda`                   | `lambda x: x*2`            |\n",
    "| Recursive Functions     | Call themselves                                       | Factorial, DFS             |\n",
    "| Generator Functions     | Use `yield` to return values one at a time            | Streaming large datasets   |\n",
    "| Decorator Functions     | Modify behavior of other functions (`@decorator`)     | Logging, access control    |\n",
    "| Higher-Order Functions  | Take or return other functions                        |`map()`,`filter()`,`reduce()`|\n",
    "| Partial Functions       | Fixed arguments with reuse (`functools.partial`)      | Preconfigured logic paths  |\n"
   ]
  },
  {
   "cell_type": "markdown",
   "id": "8937cc7f-1c2f-4cf2-9d37-339d7a29d33d",
   "metadata": {},
   "source": [
    "### 🔹 Common Use Cases of Functions\n",
    "\n",
    "- **Data analysis**: wrap transformations like cleaning or aggregation.\n",
    "- **Web development**: define page logic or API routes in Flask/Django.\n",
    "- **Machine learning**: encapsulate preprocessing and evaluation steps.\n",
    "- **Automation**: streamline repetitive tasks like file renaming or emailing.\n",
    "- **Modular apps**: divide functionality across components for scalability.\n",
    "\n",
    "Functions make your code modular, readable, testable, and reusable. Want help writing or refactoring one of your own functions?\n"
   ]
  },
  {
   "cell_type": "markdown",
   "id": "31f9f0fd-8487-4af1-83aa-e17de66ce864",
   "metadata": {},
   "source": [
    "### 1. Functions"
   ]
  },
  {
   "cell_type": "code",
   "execution_count": 6,
   "id": "c2997045-b7d1-4b67-ac8d-845e5c036f39",
   "metadata": {},
   "outputs": [
    {
     "name": "stdout",
     "output_type": "stream",
     "text": [
      "3.0\n",
      "2.3333333333333335\n"
     ]
    }
   ],
   "source": [
    "# a = 4\n",
    "# b = 2\n",
    "# c = 1\n",
    "\n",
    "# average = (a + b + c)/3.0\n",
    "# print(average)\n",
    "\n",
    "# a1 = 6\n",
    "# b1 = 7\n",
    "# c1 = 12\n",
    "\n",
    "# average1 = (a1 + b1 + c1)/3\n",
    "# print(average1)\n",
    "\n",
    "\n",
    "def average(a, b, c):\n",
    "    d = (a + b + c)/3.0\n",
    "    # print(d)\n",
    "    return d\n",
    "\n",
    "o1 = average(3, 5, 1)\n",
    "o2 = average(4, 2, 1)\n",
    "\n",
    "print(o1)\n",
    "print(o2)"
   ]
  },
  {
   "cell_type": "markdown",
   "id": "27b75cdb-ac0f-4133-acc9-685bc99a7be2",
   "metadata": {},
   "source": [
    "### 2. Functions_Arguements"
   ]
  },
  {
   "cell_type": "code",
   "execution_count": 8,
   "id": "12d55ec5-ac99-4e69-98cb-7cd041c1bef3",
   "metadata": {},
   "outputs": [
    {
     "name": "stdout",
     "output_type": "stream",
     "text": [
      "10\n",
      "8\n"
     ]
    }
   ],
   "source": [
    "def add(a, b, plus=0):\n",
    "    x = a + b + plus\n",
    "    return x\n",
    "\n",
    "\n",
    "c = add(3, 5, 2)\n",
    "print(c)\n",
    "\n",
    "c1 = add(b=5, a=3)\n",
    "print(c1)"
   ]
  },
  {
   "cell_type": "markdown",
   "id": "87c767a1-a8bc-4f66-b638-9a4c7c6fb9d6",
   "metadata": {},
   "source": [
    "### 3. Lambda_Function"
   ]
  },
  {
   "cell_type": "code",
   "execution_count": 10,
   "id": "da3346a3-6337-4b3d-b91a-5e3fae85e265",
   "metadata": {},
   "outputs": [
    {
     "name": "stdout",
     "output_type": "stream",
     "text": [
      "9\n",
      "65\n"
     ]
    }
   ],
   "source": [
    "square = lambda x: x*x \n",
    "'''\n",
    "As good as writing\n",
    "def square(x):\n",
    "    return x*x\n",
    "'''\n",
    "sum = lambda x, y: x+y\n",
    "'''\n",
    "As good as writing\n",
    "def sum(x, y):\n",
    "    return x + y\n",
    "'''\n",
    "\n",
    "print(square(3))\n",
    "print(sum(3, 62))"
   ]
  },
  {
   "cell_type": "markdown",
   "id": "cd89d5f4-7d54-43dc-bc26-3ab9d8c7866d",
   "metadata": {},
   "source": [
    "### 4. Recursive_Function"
   ]
  },
  {
   "cell_type": "code",
   "execution_count": 12,
   "id": "0fc2cf2d-1bc4-4560-848b-2ab5555eca04",
   "metadata": {},
   "outputs": [
    {
     "name": "stdout",
     "output_type": "stream",
     "text": [
      "1\n"
     ]
    },
    {
     "data": {
      "text/plain": [
       "8"
      ]
     },
     "execution_count": 12,
     "metadata": {},
     "output_type": "execute_result"
    }
   ],
   "source": [
    "''' \n",
    "0 1 1 2 3 5 8 13\n",
    "0 1 2 3 4 5 6.....\n",
    "\n",
    "fib(0) = 0\n",
    "fib(1) = 1\n",
    "fib(2) = fib(0) + fib(1)\n",
    "fib(3) = fib(1) + fib(2)\n",
    "fib(4) = fib(2) + fib(3)\n",
    "fib(n) = fib(n-2) + fib(n-1)\n",
    "\n",
    "'''\n",
    "\n",
    "def fib(n):\n",
    "    # Base case of recursion\n",
    "    if(n == 0 or n == 1):\n",
    "        return n\n",
    "\n",
    "    return fib(n-2) + fib(n-1)\n",
    "\n",
    "print(fib(1))\n",
    "\n",
    "fib(4) + fib(5)\n",
    "fib(2) + fib(3) + fib(5)\n",
    "fib(0) + fib(1) + fib(3) + fib(5)\n",
    "0 + 1 + fib(1) + fib(2) + fib(3) + fib(4)\n",
    "0 + 1 + 1 + fib(0) + fib(1) + fib(1) + fib(2)+ fib(4)\n",
    "0 + 1 + 1 + 0 + 1 + 1 + fib(0) + fib(1) + fib(2) + fib(3)\n",
    "0 + 1 + 1 + 0 + 1 + 1 + 0 + 1 + fib(0) + fib(1) + fib(3)\n",
    "0 + 1 + 1 + 0 + 1 + 1 + 0 + 1 + 0 + 1 + fib(1) + fib(2)\n",
    "0 + 1 + 1 + 0 + 1 + 1 + 0 + 1 + 0 + 1 + 1 + fib(0) + fib(1)\n",
    "0 + 1 + 1 + 0 + 1 + 1 + 0 + 1 + 0 + 1 + 1 + 0 + 1"
   ]
  },
  {
   "cell_type": "markdown",
   "id": "c931cfed-00b4-4b6e-92bf-116b3985b13c",
   "metadata": {},
   "source": [
    "### 5. Modules"
   ]
  },
  {
   "cell_type": "code",
   "execution_count": 14,
   "id": "e7c55607-c32e-47ba-ad79-758c96e97639",
   "metadata": {},
   "outputs": [
    {
     "name": "stdout",
     "output_type": "stream",
     "text": [
      "4.0\n",
      "Hello world\n",
      "<!doctype html><html itemscope=\"\" itemtype=\"http://schema.org/WebPage\" lang=\"en-IN\"><head><meta content=\"text/html; charset=UTF-8\" http-equiv=\"Content-Type\"><meta content=\"/images/branding/googleg/1x/googleg_standard_color_128dp.png\" itemprop=\"image\"><title>Google</title><script nonce=\"AzIjEYCl9KO_yEFC6w8oGQ\">(function(){var _g={kEI:'Zi56aKj5M87Z5OUPrOu9mQg',kEXPI:'0,202791,63,2,3497405,1123,538661,6325,7787,34679,30022,6398,87925,266578,238458,51586,11106,5230436,140,36812642,25366949,7146,6964,65172,6753,23879,9138,4600,328,6225,54214,9951,15049,8205,3292,4134,30379,28334,48287,5924,353,11781,7099,3118,3,2749,3856,3858,5774,27611,3050,2,1667,11805,3261,2990,35,3420,2864,10619,12108,5683,3605,16228,1543,2731,627,5803,5651,3819,647,4222,4,4,4801,945,3,1187,283,5611,3621,198,1016,1,3463,2,82,821,2,393,2423,463,7,1378,601,1032,939,6,634,4380,4,121,353,4593,3201,7,1941,934,1712,103,4,1,321,1189,633,3280,667,34,112,1751,443,7,787,968,4,3302,2822,1288,159,3,2,2,2,1191,140,4034,276,611,4,106,915,1,1224,848,2633,83,519,82,90,219,1349,1965,667,361,883,18,1873,288,1151,128,54,537,2,1,1380,31,84,20,1828,285,69,577,285,26,822,1972,2,672,717,786,190,1134,2,771,4,507,65,5,1,373,309,42,85,43,7,261,327,107,172,21,404,309,7,5,175,285,968,299,3,2,981,2,291,723,913,218,30,1166,917,250,54,1085,90,139,253,9,1,1811,884,509,31,2,246,4,1195,805,143,119,3,749,162,395,17,34,75,21,449,5,50,780,14,24,496,534,600,3,374,219,44,1,2,96,65,1510,85,493,1695,3,3,315,588,12,51,107,962,138,1834,92,30,696,75,834,89,2514,76,12,126,2,738,958,1,3,2,990,3,2,2,2,771,107,39,3,4,1,3,2,1,121,155,306,4,903,278,61,16,160,104,31,6,219,127,126,439,1200,232,122,231,272,179,155,129,650,3,196,4,86,479,21214604,5,2253,739,4,2701,259,3,1308,1929,1096,15,3536,607,2,706,3020,277,3,1557,371,62,41,1251,441,465,607,330,3,891,200,801,147,7138010,1351877,1940,573801',kBL:'9fgn',kOPI:89978449};(function(){var a;((a=window.google)==null?0:a.stvsc)?google.kEI=_g.kEI:window.google=_g;}).call(this);})();(function(){google.sn='webhp';google.kHL='en-IN';})();(function(){\n",
      "var g=this||self;function k(){return window.google&&window.google.kOPI||null};var l,m=[];function n(a){for(var b;a&&(!a.getAttribute||!(b=a.getAttribute(\"eid\")));)a=a.parentNode;return b||l}function p(a){for(var b=null;a&&(!a.getAttribute||!(b=a.getAttribute(\"leid\")));)a=a.parentNode;return b}function q(a){/^http:/i.test(a)&&window.location.protocol===\"https:\"&&(google.ml&&google.ml(Error(\"a\"),!1,{src:a,glmm:1}),a=\"\");return a}\n",
      "function r(a,b,d,c,h){var e=\"\";b.search(\"&ei=\")===-1&&(e=\"&ei=\"+n(c),b.search(\"&lei=\")===-1&&(c=p(c))&&(e+=\"&lei=\"+c));var f=b.search(\"&cshid=\")===-1&&a!==\"slh\";c=\"&zx=\"+Date.now().toString();g._cshid&&f&&(c+=\"&cshid=\"+g._cshid);(d=d())&&(c+=\"&opi=\"+d);return\"/\"+(h||\"gen_204\")+\"?atyp=i&ct=\"+String(a)+\"&cad=\"+(b+e+c)};l=google.kEI;google.getEI=n;google.getLEI=p;google.ml=function(){return null};google.log=function(a,b,d,c,h,e){e=e===void 0?k:e;d||(d=r(a,b,e,c,h));if(d=q(d)){a=new Image;var f=m.length;m[f]=a;a.onerror=a.onload=a.onabort=function(){delete m[f]};a.src=d}};google.logUrl=function(a,b){b=b===void 0?k:b;return r(\"\",a,b)};}).call(this);(function(){google.y={};google.sy={};function e(a,b,c){if(a)var d=a.id;else{do d=Math.random();while(c[d])}c[d]=[a,b]}var f;(f=google).x||(f.x=function(a,b){e(a,b,google.y)});var g;(g=google).sx||(g.sx=function(a,b){e(a,b,google.sy)});google.lm=[];var h;(h=google).plm||(h.plm=function(a){google.lm.push.apply(google.lm,a)});google.lq=[];var k;(k=google).load||(k.load=function(a,b,c){google.lq.push([[a],b,c])});var l;(l=google).loadAll||(l.loadAll=function(a,b){google.lq.push([a,b])});google.bx=!1;var m;(m=google).lx||(m.lx=function(){});var n=[],p;(p=google).fce||(p.fce=function(a,b,c,d){n.push([a,b,c,d])});google.qce=n;google.adl=[];}).call(this);google.f={};(function(){\n",
      "document.documentElement.addEventListener(\"submit\",function(b){var a;if(a=b.target){var c=a.getAttribute(\"data-submitfalse\");a=c===\"1\"||c===\"q\"&&!a.elements.q.value?!0:!1}else a=!1;a&&(b.preventDefault(),b.stopPropagation())},!0);document.documentElement.addEventListener(\"click\",function(b){var a;a:{for(a=b.target;a&&a!==document.documentElement;a=a.parentElement)if(a.tagName===\"A\"){a=a.getAttribute(\"data-nohref\")===\"1\";break a}a=!1}a&&b.preventDefault()},!0);}).call(this);</script><style>#gbar,#guser{font-size:13px;padding-top:1px !important;}#gbar{height:22px}#guser{padding-bottom:7px !important;text-align:right}.gbh,.gbd{border-top:1px solid #c9d7f1;font-size:1px}.gbh{height:0;position:absolute;top:24px;width:100%}@media all{.gb1{height:22px;margin-right:.5em;vertical-align:top}#gbar{float:left}}a.gb1,a.gb4{text-decoration:underline !important}a.gb1,a.gb4{color:#00c !important}.gbi .gb4{color:#dd8e27 !important}.gbf .gb4{color:#900 !important}\n",
      "</style><style>body,td,a,p,.h{font-family:sans-serif}body{margin:0;overflow-y:scroll}#gog{padding:3px 8px 0}td{line-height:.8em}.gac_m td{line-height:17px}form{margin-bottom:20px}.h{color:#1967d2}em{font-weight:bold;font-style:normal}.lst{height:25px;width:496px}.gsfi,.lst{font:18px sans-serif}.gsfs{font:17px sans-serif}.ds{display:inline-box;display:inline-block;margin:3px 0 4px;margin-left:4px}input{font-family:inherit}body{background:#fff;color:#1f1f1f}a{color:#681da8;text-decoration:none}a:hover,a:active{text-decoration:underline}.fl a{color:#1967d2}a:visited{color:#681da8}.sblc{padding-top:5px}.sblc a{display:block;margin:2px 0;margin-left:13px;font-size:11px}.lsbb{background:#f8f9fa;border:solid 1px;border-color:#dadce0 #70757a #70757a #dadce0;height:30px}.lsbb{display:block}#WqQANb a{display:inline-block;margin:0 12px}.lsb{background:url(/images/nav_logo229.png) 0 -261px repeat-x;color:#1f1f1f;border:none;cursor:pointer;height:30px;margin:0;outline:0;font:15px sans-serif;vertical-align:top}.lsb:active{background:#dadce0}.lst:focus{outline:none}</style><script nonce=\"AzIjEYCl9KO_yEFC6w8oGQ\">(function(){window.google.erd={jsr:1,bv:2256,de:true,dpf:'Hc-IZ25IZNuD1a4KpXk752sIghayKI1KcxRcd7D0ktc'};\n",
      "var g=this||self;var k,l=(k=g.mei)!=null?k:1,m,p=(m=g.diel)!=null?m:0,q,r=(q=g.sdo)!=null?q:!0,t=0,u,w=google.erd,x=w.jsr;google.ml=function(a,b,d,n,e){e=e===void 0?2:e;b&&(u=a&&a.message);d===void 0&&(d={});d.cad=\"ple_\"+google.ple+\".aple_\"+google.aple;if(google.dl)return google.dl(a,e,d,!0),null;b=d;if(x<0){window.console&&console.error(a,b);if(x===-2)throw a;b=!1}else b=!a||!a.message||a.message===\"Error loading script\"||t>=l&&!n?!1:!0;if(!b)return null;t++;d=d||{};b=encodeURIComponent;var c=\"/gen_204?atyp=i&ei=\"+b(google.kEI);google.kEXPI&&(c+=\"&jexpid=\"+b(google.kEXPI));c+=\"&srcpg=\"+b(google.sn)+\"&jsr=\"+b(w.jsr)+\n",
      "\"&bver=\"+b(w.bv);w.dpf&&(c+=\"&dpf=\"+b(w.dpf));var f=a.lineNumber;f!==void 0&&(c+=\"&line=\"+f);var h=a.fileName;h&&(h.indexOf(\"-extension:/\")>0&&(e=3),c+=\"&script=\"+b(h),f&&h===window.location.href&&(f=document.documentElement.outerHTML.split(\"\\n\")[f],c+=\"&cad=\"+b(f?f.substring(0,300):\"No script found.\")));google.ple&&google.ple===1&&(e=2);c+=\"&jsel=\"+e;for(var v in d)c+=\"&\",c+=b(v),c+=\"=\",c+=b(d[v]);c=c+\"&emsg=\"+b(a.name+\": \"+a.message);c=c+\"&jsst=\"+b(a.stack||\"N/A\");c.length>=12288&&(c=c.substring(0,12288));a=c;n||google.log(0,\"\",a);return a};window.onerror=function(a,b,d,n,e){u!==a&&(a=e instanceof Error?e:Error(a),d===void 0||\"lineNumber\"in a||(a.lineNumber=d),b===void 0||\"fileName\"in a||(a.fileName=b),google.ml(a,!1,void 0,!1,a.name===\"SyntaxError\"||a.message.substring(0,11)===\"SyntaxError\"||a.message.indexOf(\"Script error\")!==-1?3:p));u=null;r&&t>=l&&(window.onerror=null)};})();</script></head><body bgcolor=\"#fff\"><script nonce=\"AzIjEYCl9KO_yEFC6w8oGQ\">(function(){var src='/images/nav_logo229.png';var iesg=false;document.body.onload = function(){window.n && window.n();if (document.images){new Image().src=src;}\n",
      "if (!iesg){document.f&&document.f.q.focus();document.gbqf&&document.gbqf.q.focus();}\n",
      "}\n",
      "})();</script><div id=\"mngb\"><div id=gbar><nobr><b class=gb1>Search</b> <a class=gb1 href=\"https://www.google.com/imghp?hl=en&tab=wi\">Images</a> <a class=gb1 href=\"https://maps.google.co.in/maps?hl=en&tab=wl\">Maps</a> <a class=gb1 href=\"https://play.google.com/?hl=en&tab=w8\">Play</a> <a class=gb1 href=\"https://www.youtube.com/?tab=w1\">YouTube</a> <a class=gb1 href=\"https://news.google.com/?tab=wn\">News</a> <a class=gb1 href=\"https://mail.google.com/mail/?tab=wm\">Gmail</a> <a class=gb1 href=\"https://drive.google.com/?tab=wo\">Drive</a> <a class=gb1 style=\"text-decoration:none\" href=\"https://www.google.co.in/intl/en/about/products?tab=wh\"><u>More</u> &raquo;</a></nobr></div><div id=guser width=100%><nobr><span id=gbn class=gbi></span><span id=gbf class=gbf></span><span id=gbe></span><a href=\"http://www.google.co.in/history/optout?hl=en\" class=gb4>Web History</a> | <a  href=\"/preferences?hl=en\" class=gb4>Settings</a> | <a target=_top id=gb_70 href=\"https://accounts.google.com/ServiceLogin?hl=en&passive=true&continue=https://www.google.com/&ec=GAZAAQ\" class=gb4>Sign in</a></nobr></div><div class=gbh style=left:0></div><div class=gbh style=right:0></div></div><center><br clear=\"all\" id=\"lgpd\"><div id=\"XjhHGf\"><img alt=\"Google\" height=\"92\" src=\"/images/branding/googlelogo/1x/googlelogo_white_background_color_272x92dp.png\" style=\"padding:28px 0 14px\" width=\"272\" id=\"hplogo\"><br><br></div><form action=\"/search\" name=\"f\"><table cellpadding=\"0\" cellspacing=\"0\"><tr valign=\"top\"><td width=\"25%\">&nbsp;</td><td align=\"center\" nowrap=\"\"><input name=\"ie\" value=\"ISO-8859-1\" type=\"hidden\"><input value=\"en-IN\" name=\"hl\" type=\"hidden\"><input name=\"source\" type=\"hidden\" value=\"hp\"><input name=\"biw\" type=\"hidden\"><input name=\"bih\" type=\"hidden\"><div class=\"ds\" style=\"height:32px;margin:4px 0\"><input class=\"lst\" style=\"margin:0;padding:5px 8px 0 6px;vertical-align:top;color:#1f1f1f\" autocomplete=\"off\" value=\"\" title=\"Google Search\" maxlength=\"2048\" name=\"q\" size=\"57\"></div><br style=\"line-height:0\"><span class=\"ds\"><span class=\"lsbb\"><input class=\"lsb\" value=\"Google Search\" name=\"btnG\" type=\"submit\"></span></span><span class=\"ds\"><span class=\"lsbb\"><input class=\"lsb\" id=\"tsuid_Zi56aKj5M87Z5OUPrOu9mQg_1\" value=\"I'm Feeling Lucky\" name=\"btnI\" type=\"submit\"><script nonce=\"AzIjEYCl9KO_yEFC6w8oGQ\">(function(){var id='tsuid_Zi56aKj5M87Z5OUPrOu9mQg_1';document.getElementById(id).onclick = function(){if (this.form.q.value){this.checked = 1;if (this.form.iflsig)this.form.iflsig.disabled = false;}\n",
      "else top.location='/doodles/';};})();</script><input value=\"AOw8s4IAAAAAaHo8dpOwPWcRDGzJpGDxRH-3GDUdW-gn\" name=\"iflsig\" type=\"hidden\"></span></span></td><td class=\"fl sblc\" align=\"left\" nowrap=\"\" width=\"25%\"><a href=\"/advanced_search?hl=en-IN&amp;authuser=0\">Advanced search</a></td></tr></table><input id=\"gbv\" name=\"gbv\" type=\"hidden\" value=\"1\"><script nonce=\"AzIjEYCl9KO_yEFC6w8oGQ\">(function(){var a,b=\"1\";if(document&&document.getElementById)if(typeof XMLHttpRequest!=\"undefined\")b=\"2\";else if(typeof ActiveXObject!=\"undefined\"){var c,d,e=[\"MSXML2.XMLHTTP.6.0\",\"MSXML2.XMLHTTP.3.0\",\"MSXML2.XMLHTTP\",\"Microsoft.XMLHTTP\"];for(c=0;d=e[c++];)try{new ActiveXObject(d),b=\"2\"}catch(h){}}a=b;if(a==\"2\"&&location.search.indexOf(\"&gbv=2\")==-1){var f=google.gbvu,g=document.getElementById(\"gbv\");g&&(g.value=a);f&&window.setTimeout(function(){location.href=f},0)};}).call(this);</script></form><div style=\"font-size:83%;min-height:3.5em\"><br><div id=\"gws-output-pages-elements-homepage_additional_languages__als\"><style>#gws-output-pages-elements-homepage_additional_languages__als{font-size:small;margin-bottom:24px}#SIvCob{color:#545454;display:inline-block;line-height:28px;}#SIvCob a{}.H6sW5{display:inline-block;margin:0 2px;white-space:nowrap}.z4hgWe{display:inline-block;margin:0 2px}</style><div id=\"SIvCob\">Google offered in:  <a href=\"https://www.google.com/setprefs?sig=0_WaFVMmBMIxvJTjH1_64xTXX8B7w%3D&amp;hl=hi&amp;source=homepage&amp;sa=X&amp;ved=0ahUKEwioxKO0pcaOAxXOLLkGHax1L4MQ2ZgBCAY\">&#2361;&#2367;&#2344;&#2381;&#2342;&#2368;</a>    <a href=\"https://www.google.com/setprefs?sig=0_WaFVMmBMIxvJTjH1_64xTXX8B7w%3D&amp;hl=bn&amp;source=homepage&amp;sa=X&amp;ved=0ahUKEwioxKO0pcaOAxXOLLkGHax1L4MQ2ZgBCAc\">&#2476;&#2494;&#2434;&#2482;&#2494;</a>    <a href=\"https://www.google.com/setprefs?sig=0_WaFVMmBMIxvJTjH1_64xTXX8B7w%3D&amp;hl=te&amp;source=homepage&amp;sa=X&amp;ved=0ahUKEwioxKO0pcaOAxXOLLkGHax1L4MQ2ZgBCAg\">&#3108;&#3142;&#3122;&#3137;&#3095;&#3137;</a>    <a href=\"https://www.google.com/setprefs?sig=0_WaFVMmBMIxvJTjH1_64xTXX8B7w%3D&amp;hl=mr&amp;source=homepage&amp;sa=X&amp;ved=0ahUKEwioxKO0pcaOAxXOLLkGHax1L4MQ2ZgBCAk\">&#2350;&#2352;&#2366;&#2336;&#2368;</a>    <a href=\"https://www.google.com/setprefs?sig=0_WaFVMmBMIxvJTjH1_64xTXX8B7w%3D&amp;hl=ta&amp;source=homepage&amp;sa=X&amp;ved=0ahUKEwioxKO0pcaOAxXOLLkGHax1L4MQ2ZgBCAo\">&#2980;&#2990;&#3007;&#2996;&#3021;</a>    <a href=\"https://www.google.com/setprefs?sig=0_WaFVMmBMIxvJTjH1_64xTXX8B7w%3D&amp;hl=gu&amp;source=homepage&amp;sa=X&amp;ved=0ahUKEwioxKO0pcaOAxXOLLkGHax1L4MQ2ZgBCAs\">&#2711;&#2753;&#2716;&#2736;&#2750;&#2724;&#2752;</a>    <a href=\"https://www.google.com/setprefs?sig=0_WaFVMmBMIxvJTjH1_64xTXX8B7w%3D&amp;hl=kn&amp;source=homepage&amp;sa=X&amp;ved=0ahUKEwioxKO0pcaOAxXOLLkGHax1L4MQ2ZgBCAw\">&#3221;&#3240;&#3277;&#3240;&#3233;</a>    <a href=\"https://www.google.com/setprefs?sig=0_WaFVMmBMIxvJTjH1_64xTXX8B7w%3D&amp;hl=ml&amp;source=homepage&amp;sa=X&amp;ved=0ahUKEwioxKO0pcaOAxXOLLkGHax1L4MQ2ZgBCA0\">&#3374;&#3378;&#3375;&#3390;&#3379;&#3330;</a>    <a href=\"https://www.google.com/setprefs?sig=0_WaFVMmBMIxvJTjH1_64xTXX8B7w%3D&amp;hl=pa&amp;source=homepage&amp;sa=X&amp;ved=0ahUKEwioxKO0pcaOAxXOLLkGHax1L4MQ2ZgBCA4\">&#2602;&#2672;&#2588;&#2622;&#2604;&#2624;</a>  </div></div></div><span id=\"footer\"><div style=\"font-size:10pt\"><div style=\"margin:19px auto;text-align:center\" id=\"WqQANb\"><a href=\"/intl/en/ads/\">Advertising</a><a href=\"http://www.google.co.in/services/\">Business Solutions</a><a href=\"/intl/en/about.html\">About Google</a><a href=\"https://www.google.com/setprefdomain?prefdom=IN&amp;prev=https://www.google.co.in/&amp;sig=K_B00PLbnRoWfIBNKZuHfImzUNA0s%3D\">Google.co.in</a></div></div><p style=\"font-size:8pt;color:#636363\">&copy; 2025 - <a href=\"/intl/en/policies/privacy/\">Privacy</a> - <a href=\"/intl/en/policies/terms/\">Terms</a></p></span></center><script nonce=\"AzIjEYCl9KO_yEFC6w8oGQ\">(function(){window.google.cdo={height:757,width:1440};(function(){var a=window.innerWidth,b=window.innerHeight;if(!a||!b){var c=window.document,d=c.compatMode==\"CSS1Compat\"?c.documentElement:c.body;a=d.clientWidth;b=d.clientHeight}if(a&&b&&(a!=google.cdo.width||b!=google.cdo.height)){var e=google,f=e.log,g=\"/client_204?&atyp=i&biw=\"+a+\"&bih=\"+b+\"&ei=\"+google.kEI,h=\"\",k=window.google&&window.google.kOPI||null;k&&(h+=\"&opi=\"+k);f.call(e,\"\",\"\",g+h)};}).call(this);})();(function(){google.xjs={basecomb:'/xjs/_/js/k\\x3dxjs.hp.en.cunsK-muLD4.es5.O/ck\\x3dxjs.hp.1MMPT6n4gW4.L.X.O/am\\x3dBAAAAABAAAAAAAAAAAAAAAAAAAAAAAAAAAAAAEAJAQEAAAAwQQAAAAAAEAAAAAAAAIAVAAAEACAQIAAAKEkA40AAAIAAUIEAyAFKDwAAABBAABAAAAABAAEAAAARAAABAAAEnAAAAAADIDwOCAAAAAiIBQABAAAAiEc/d\\x3d1/ed\\x3d1/dg\\x3d0/ujg\\x3d1/rs\\x3dACT90oFshcgbXcIdBwd26jJICh9r1yka2A',basecss:'/xjs/_/ss/k\\x3dxjs.hp.1MMPT6n4gW4.L.X.O/am\\x3dBAAAAABAAAAAAAAAAAAAAAAAAAAAAAAAAAAAAEAJAQEAAAAwQAAAAAAAAAAAAAAAAAAVAAAEACAQIAAAKAkAAwAAAIAAUIEAyAFKDwAAABBAABAAAAABAAEAAAARAAABAAAEjAAAAAAAAAACAAAAAAiI/rs\\x3dACT90oHpRXVWliQdBtjxPfxmakaOiZe_Vw',basejs:'/xjs/_/js/k\\x3dxjs.hp.en.cunsK-muLD4.es5.O/am\\x3dAAAAAAAAAAAAAAAAAAAAAAAAAAAAAAAAAAAAAAAAAAAAAAAAAQAAAAAAEAAAAAAAAIAQAAAEAAAAAAAAAEAA4EAAAAAAAAAAwAEAAAAAAAAAABAAAAAAAAAAAAAAAAAAAAAAHAAAAAADIDwOCAAAAAiIBQABAAAAiEc/dg\\x3d0/rs\\x3dACT90oHtpka9ajgnXKQfq10hqdgkdZt_eQ',excm:[]};})();(function(){var u='/xjs/_/js/k\\x3dxjs.hp.en.cunsK-muLD4.es5.O/am\\x3dAAAAAAAAAAAAAAAAAAAAAAAAAAAAAAAAAAAAAAAAAAAAAAAAAQAAAAAAEAAAAAAAAIAQAAAEAAAAAAAAAEAA4EAAAAAAAAAAwAEAAAAAAAAAABAAAAAAAAAAAAAAAAAAAAAAHAAAAAADIDwOCAAAAAiIBQABAAAAiEc/d\\x3d1/ed\\x3d1/dg\\x3d3/rs\\x3dACT90oHtpka9ajgnXKQfq10hqdgkdZt_eQ/m\\x3dsb_he,d';var st=1;var amd=1000;var mmd=0;var pod=true;var pop=true;var povp=false;var fp='';\n",
      "var e=this||self;function f(){var b,a,d;if(a=b=(a=window.google)==null?void 0:(d=a.ia)==null?void 0:d.r.B2Jtyd)a=b.m,a=a===1||a===5;return a&&b.cbfd!=null&&b.cbvi!=null?b:void 0};function g(){var b=[u];if(!google.dp){for(var a=0;a<b.length;a++){var d=b[a],c=document.createElement(\"link\");c.as=\"script\";c.href=d;c.rel=\"preload\";document.body.appendChild(c)}google.dp=!0}};google.ps===void 0&&(google.ps=[]);function h(){var b=u,a=function(){};google.lx=google.stvsc?a:function(){k(b);google.lx=a};google.bx||google.lx()}function l(b,a){a&&(b.src=a);fp&&google.caft&&google.caft(function(){b.fetchPriority=fp});var d=b.onload;b.onload=function(c){d&&d(c);google.ps=google.ps.filter(function(G){return b!==G})};google.ps.push(b);document.body.appendChild(b)}google.as=l;function k(b){google.timers&&google.timers.load&&google.tick&&google.tick(\"load\",\"xjsls\");var a=document.createElement(\"script\");a.onerror=function(){google.ple=1};a.onload=function(){google.ple=0};google.xjsus=void 0;l(a,b);google.aple=-1;google.dp=!0};function m(b){var a=b.getAttribute(\"jscontroller\");return(a===\"UBXHI\"||a===\"R3fhkb\"||a===\"TSZEqd\")&&b.hasAttribute(\"data-src\")}function n(){for(var b=document.getElementsByTagName(\"img\"),a=0,d=b.length;a<d;a++){var c=b[a];if(c.hasAttribute(\"data-lzy_\")&&Number(c.getAttribute(\"data-atf\"))&1&&!m(c))return!0}return!1}for(var p=document.getElementsByTagName(\"img\"),q=0,r=p.length;q<r;++q){var t=p[q];Number(t.getAttribute(\"data-atf\"))&1&&m(t)&&(t.src=t.getAttribute(\"data-src\"))};var w,x,y,z,A,B,C,D,E,F;function H(){google.xjsu=u;e._F_jsUrl=u;A=function(){h()};w=!1;x=(st===1||st===3)&&!!google.caft&&!n();y=f();z=(st===2||st===3)&&!!y&&!n();B=pod;C=pop;D=povp;E=pop&&document.prerendering||povp&&document.hidden;F=D?\"visibilitychange\":\"prerenderingchange\"}function I(){w||x||z||E||(A(),w=!0)}\n",
      "setTimeout(function(){google&&google.tick&&google.timers&&google.timers.load&&google.tick(\"load\",\"xjspls\");H();if(x||z||E){if(x){var b=function(){x=!1;I()};google.caft(b);window.setTimeout(b,amd)}z&&(b=function(){z=!1;I()},y.cbvi.push(b),window.setTimeout(b,mmd));if(E){var a=function(){(D?document.hidden:document.prerendering)||(E=!1,I(),document.removeEventListener(F,a))};document.addEventListener(F,a,{passive:!0})}if(B||C||D)w||g()}else A()},0);})();window._ = window._ || {};window._DumpException = _._DumpException = function(e){throw e;};window._s = window._s || {};_s._DumpException = _._DumpException;window._qs = window._qs || {};_qs._DumpException = _._DumpException;(function(){var t=[4,65536,0,0,0,0,0,38797312,289,17088512,2048,1024,32,24064,704643140,24079,587222312,19203,135593992,444625408,15,34668608,268435457,16384,1114112,1024,639304,12582912,135150624,536870912,268458176,0,18312];window._F_toggles = window._xjs_toggles = t;})();window._F_installCss = window._F_installCss || function(css){};(function(){google.jl={bfl:0,dw:false,eli:false,ine:false,ubm:false,uwp:true,vs:false};})();(function(){var pmc='{\\x22d\\x22:{},\\x22sb_he\\x22:{\\x22client\\x22:\\x22heirloom-hp\\x22,\\x22dh\\x22:true,\\x22ds\\x22:\\x22\\x22,\\x22host\\x22:\\x22google.com\\x22,\\x22jsonp\\x22:true,\\x22msgs\\x22:{\\x22cibl\\x22:\\x22Clear Search\\x22,\\x22dym\\x22:\\x22Did you mean:\\x22,\\x22lcky\\x22:\\x22I\\\\u0026#39;m Feeling Lucky\\x22,\\x22lml\\x22:\\x22Learn more\\x22,\\x22psrc\\x22:\\x22This search was removed from your \\\\u003Ca href\\x3d\\\\\\x22/history\\\\\\x22\\\\u003EWeb History\\\\u003C/a\\\\u003E\\x22,\\x22psrl\\x22:\\x22Remove\\x22,\\x22sbit\\x22:\\x22Search by image\\x22,\\x22srch\\x22:\\x22Google Search\\x22},\\x22ovr\\x22:{},\\x22pq\\x22:\\x22\\x22,\\x22rfs\\x22:[],\\x22stok\\x22:\\x22Kn-B4pfYulCZmSeO217qPSJ59dQ\\x22}}';google.pmc=JSON.parse(pmc);})();</script></body></html>\n"
     ]
    }
   ],
   "source": [
    "# Two types of modules in Python: \n",
    "# - Built in Modules \n",
    "# - External Modules\n",
    "# List of all the built in Modules: https://docs.python.org/3/py-modindex.html\n",
    "import math \n",
    "import os \n",
    "import mymodule  # External Module\n",
    "import requests\n",
    "\n",
    "print(math.sqrt(16))\n",
    "mymodule.hello()\n",
    "r = requests.get(\"https://www.google.com\")\n",
    "print(r.text)"
   ]
  },
  {
   "cell_type": "markdown",
   "id": "05c5d495-92a0-41f3-aba8-fcd8d1d67387",
   "metadata": {},
   "source": [
    "### here i have imported mymodule from the same directory as of my : Day_05_Functions.ipynb and \n",
    "\n",
    "used mymodule.py as \n",
    "## USER_DEFINED_MODULE / EXTERNAL_MODULE"
   ]
  },
  {
   "cell_type": "code",
   "execution_count": null,
   "id": "152fb753-d619-4201-a5db-1003d81b6937",
   "metadata": {},
   "outputs": [],
   "source": []
  },
  {
   "cell_type": "markdown",
   "id": "46c943a8-6f78-4ebf-bbfb-9e59e3d3d3c2",
   "metadata": {},
   "source": [
    "### 6. Functions_Scope"
   ]
  },
  {
   "cell_type": "code",
   "execution_count": 17,
   "id": "63c75b12-3756-4a4c-9684-6e6b4f047d94",
   "metadata": {},
   "outputs": [
    {
     "name": "stdout",
     "output_type": "stream",
     "text": [
      "8\n",
      "10\n",
      "8\n"
     ]
    }
   ],
   "source": [
    "def sum(a, b):\n",
    "    # a and b are local variables\n",
    "    c = a + b \n",
    "    z = 1 # It creates a local variable called z which is destroyed after this function returns\n",
    "    return c\n",
    "\n",
    "def greet():\n",
    "    z = 32 # Local variable\n",
    "    print(\"Hello\")\n",
    "    \n",
    "z = 8 # z is a global variable\n",
    "print(z)\n",
    "print(sum(4, 6)) \n",
    "print(z)"
   ]
  },
  {
   "cell_type": "markdown",
   "id": "4500b5c9-bea8-4424-91f3-6ec19cf6e5fa",
   "metadata": {},
   "source": [
    "### 7. Global_Scope"
   ]
  },
  {
   "cell_type": "code",
   "execution_count": 19,
   "id": "74d5a3f3-9eff-4a90-959f-2052a144b9fe",
   "metadata": {},
   "outputs": [
    {
     "name": "stdout",
     "output_type": "stream",
     "text": [
      "Hey I am swimming \n",
      "15\n",
      "0\n"
     ]
    }
   ],
   "source": [
    "def sum(a, b):\n",
    "    print(\"Hey I am swimming \")\n",
    "    c = a + b\n",
    "    global z # Please modify global z\n",
    "    z = 0 # This will refer to global z and not create a local variable\n",
    "    return c \n",
    "\n",
    "z = 3\n",
    "print(sum(3, 12))\n",
    "print(z)"
   ]
  },
  {
   "cell_type": "markdown",
   "id": "54f6e605-0157-4827-bad1-ab4312b2b960",
   "metadata": {},
   "source": [
    "### 8. Docstrings"
   ]
  },
  {
   "cell_type": "code",
   "execution_count": 21,
   "id": "1b583a1b-4b64-4c72-971a-a9b705ea2780",
   "metadata": {},
   "outputs": [
    {
     "name": "stdout",
     "output_type": "stream",
     "text": [
      "This will sum two numbers\n"
     ]
    }
   ],
   "source": [
    "def sum(a, b): \n",
    "    '''This will sum two numbers'''\n",
    "    c = a + b  \n",
    "    return c\n",
    "\n",
    "print(sum.__doc__)"
   ]
  },
  {
   "cell_type": "markdown",
   "id": "2e37e65a-6216-4769-9648-b4327ef15ead",
   "metadata": {},
   "source": [
    "### 9. my_own_module "
   ]
  },
  {
   "cell_type": "code",
   "execution_count": 23,
   "id": "f641f6ea-0f3e-448c-b561-4b96dc3a6ac6",
   "metadata": {},
   "outputs": [],
   "source": [
    "def hello():\n",
    "    print(\"Hello world\")"
   ]
  },
  {
   "cell_type": "code",
   "execution_count": 24,
   "id": "60689dd9-dbc3-437e-8064-696f4ab83c95",
   "metadata": {},
   "outputs": [
    {
     "name": "stdout",
     "output_type": "stream",
     "text": [
      "Hello world\n"
     ]
    }
   ],
   "source": [
    "hello()"
   ]
  }
 ],
 "metadata": {
  "kernelspec": {
   "display_name": "Python [conda env:base] *",
   "language": "python",
   "name": "conda-base-py"
  },
  "language_info": {
   "codemirror_mode": {
    "name": "ipython",
    "version": 3
   },
   "file_extension": ".py",
   "mimetype": "text/x-python",
   "name": "python",
   "nbconvert_exporter": "python",
   "pygments_lexer": "ipython3",
   "version": "3.12.3"
  }
 },
 "nbformat": 4,
 "nbformat_minor": 5
}
