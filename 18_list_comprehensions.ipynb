{
 "cells": [
  {
   "cell_type": "markdown",
   "id": "3d431e0a-7987-4f98-b7a7-c80e124abf91",
   "metadata": {},
   "source": [
    "# List Comprehensions in Python\n",
    "\n",
    "List comprehension is a **concise** and **efficient** way to create lists in Python. It allows you to generate lists in a **single line of code**, making your code more readable and Pythonic.\n",
    "\n",
    "---\n",
    "\n",
    "## 1. Basic Syntax\n",
    "\n",
    "```python\n",
    "[expression for item in iterable]\n",
    "```\n",
    "\n",
    "- `expression` → The operation to perform on each item  \n",
    "- `item` → The variable representing each element in the iterable  \n",
    "- `iterable` → The data structure being iterated over (list, range, etc.)\n",
    "\n",
    "### **Example: Creating a list of squares**\n",
    "```python\n",
    "squares = [x**2 for x in range(5)]\n",
    "print(squares)  # Output: [0, 1, 4, 9, 16]\n",
    "```\n",
    "\n",
    "---\n",
    "\n",
    "## 2. Using **if Condition** in List Comprehension\n",
    "\n",
    "### **Example: Filtering even numbers**\n",
    "```python\n",
    "evens = [x for x in range(10) if x % 2 == 0]\n",
    "print(evens)  # Output: [0, 2, 4, 6, 8]\n",
    "```\n",
    "\n",
    "---\n",
    "\n",
    "## 3. Using **if-else Condition** in List Comprehension\n",
    "\n",
    "### **Example: Replacing even numbers with \"Even\" and odd numbers with \"Odd\"**\n",
    "```python\n",
    "numbers = [\"Even\" if x % 2 == 0 else \"Odd\" for x in range(5)]\n",
    "print(numbers)  # Output: ['Even', 'Odd', 'Even', 'Odd', 'Even']\n",
    "```\n",
    "\n",
    "---\n",
    "\n",
    "## 4. Nested Loops in List Comprehension\n",
    "\n",
    "### **Example: Creating pairs from two lists**\n",
    "```python\n",
    "pairs = [(x, y) for x in range(2) for y in range(3)]\n",
    "print(pairs)  # Output: [(0, 0), (0, 1), (0, 2), (1, 0), (1, 1), (1, 2)]\n",
    "```\n",
    "\n",
    "---\n",
    "\n",
    "## 5. List Comprehension with Functions\n",
    "\n",
    "### **Example: Converting a list of strings to uppercase**\n",
    "```python\n",
    "words = [\"hello\", \"world\", \"python\"]\n",
    "upper_words = [word.upper() for word in words]\n",
    "print(upper_words)  # Output: ['HELLO', 'WORLD', 'PYTHON']\n",
    "```\n",
    "\n",
    "---\n",
    "\n",
    "## 6. List Comprehension with **Nested List Comprehension**\n",
    "\n",
    "### **Example: Flattening a 2D list**\n",
    "```python\n",
    "matrix = [[1, 2], [3, 4], [5, 6]]\n",
    "flattened = [num for row in matrix for num in row]\n",
    "print(flattened)  # Output: [1, 2, 3, 4, 5, 6]\n",
    "```\n",
    "\n",
    "---\n",
    "\n",
    "## 7. List Comprehension with **Set and Dictionary Comprehensions**\n",
    "\n",
    "### **Set Comprehension**\n",
    "```python\n",
    "unique_numbers = {x for x in [1, 2, 2, 3, 4, 4]}\n",
    "print(unique_numbers)  # Output: {1, 2, 3, 4}\n",
    "```\n",
    "\n",
    "### **Dictionary Comprehension**\n",
    "```python\n",
    "squared_dict = {x: x**2 for x in range(5)}\n",
    "print(squared_dict)  # Output: {0: 0, 1: 1, 2: 4, 3: 9, 4: 16}\n",
    "```\n",
    "\n",
    "---\n",
    "\n",
    "## 8. When to Use List Comprehensions?\n",
    "\n",
    "- You need to create a list in a **single line**  \n",
    "- The logic is **simple and readable**  \n",
    "- You want to improve **performance** (faster than loops)  \n",
    "\n",
    "Avoid when:\n",
    "- The logic is **too complex** (use a standard loop instead for clarity)  \n",
    "\n",
    "---\n",
    "\n",
    "## 9. Performance Comparison: **List Comprehension vs. Loop**\n",
    "```python\n",
    "import time\n",
    "\n",
    "# Using a for loop\n",
    "start = time.time()\n",
    "squares_loop = []\n",
    "for x in range(10**6):  #loops iterate for x in range: (0 to 999,999)\n",
    "    squares_loop.append(x**2)\n",
    "print(\"Loop time:\", time.time() - start)\n",
    "\n",
    "# Using list comprehension\n",
    "start = time.time()\n",
    "squares_comp = [x**2 for x in range(10**6)]\n",
    "print(\"List Comprehension time:\", time.time() - start)\n",
    "```\n",
    "**List comprehensions are generally faster than loops** because they are optimized internally by Python.\n",
    "\n",
    "---\n",
    "\n",
    "## Summary\n",
    "\n",
    "| Concept | Example |\n",
    "|---------|---------|\n",
    "| **Basic List Comprehension** | `[x**2 for x in range(5)]` |\n",
    "| **With Condition (`if`)** | `[x for x in range(10) if x % 2 == 0]` |\n",
    "| **With `if-else`** | `[\"Even\" if x % 2 == 0 else \"Odd\" for x in range(5)]` |\n",
    "| **Nested Loop** | `[(x, y) for x in range(2) for y in range(3)]` |\n",
    "| **Flatten 2D List** | `[num for row in matrix for num in row]` |\n",
    "| **Set Comprehension** | `{x for x in [1, 2, 2, 3]}` |\n",
    "| **Dictionary Comprehension** | `{x: x**2 for x in range(5)}` |\n"
   ]
  },
  {
   "cell_type": "code",
   "execution_count": 7,
   "id": "5e38d078-f0c0-4334-8ad2-2d503503a05b",
   "metadata": {},
   "outputs": [],
   "source": [
    "table = []"
   ]
  },
  {
   "cell_type": "code",
   "execution_count": 9,
   "id": "f44144b6-7ddf-40a9-81d1-bdcaea6fa9dc",
   "metadata": {},
   "outputs": [
    {
     "name": "stdin",
     "output_type": "stream",
     "text": [
      "Please Enter a number: 17\n"
     ]
    },
    {
     "name": "stdout",
     "output_type": "stream",
     "text": [
      "17 X 1 = 17\n",
      "17 X 2 = 34\n",
      "17 X 3 = 51\n",
      "17 X 4 = 68\n",
      "17 X 5 = 85\n",
      "17 X 6 = 102\n",
      "17 X 7 = 119\n",
      "17 X 8 = 136\n",
      "17 X 9 = 153\n",
      "17 X 10 = 170\n"
     ]
    }
   ],
   "source": [
    "x = int(input(\"Please Enter a number:\"))\n",
    "for i in range(1, 11):\n",
    "    print(f\"{x} X {i} = {x*i}\")\n",
    "    table.append(x*i)"
   ]
  },
  {
   "cell_type": "code",
   "execution_count": 11,
   "id": "794c2b4b-146f-431a-bf20-32264ef6db8c",
   "metadata": {},
   "outputs": [
    {
     "data": {
      "text/plain": [
       "[17, 34, 51, 68, 85, 102, 119, 136, 153, 170]"
      ]
     },
     "execution_count": 11,
     "metadata": {},
     "output_type": "execute_result"
    }
   ],
   "source": [
    "table"
   ]
  },
  {
   "cell_type": "code",
   "execution_count": 13,
   "id": "9f5e5d47-7245-47c4-a997-16859297180b",
   "metadata": {},
   "outputs": [
    {
     "name": "stdin",
     "output_type": "stream",
     "text": [
      "Please Enter a number: 19\n"
     ]
    }
   ],
   "source": [
    "x = int(input(\"Please Enter a number:\"))\n",
    "t = [x*i for i in range(1, 11)]"
   ]
  },
  {
   "cell_type": "code",
   "execution_count": 15,
   "id": "8f52c642-4ccf-49ae-b8d8-2c8e2e8d3dec",
   "metadata": {},
   "outputs": [
    {
     "data": {
      "text/plain": [
       "[19, 38, 57, 76, 95, 114, 133, 152, 171, 190]"
      ]
     },
     "execution_count": 15,
     "metadata": {},
     "output_type": "execute_result"
    }
   ],
   "source": [
    "t"
   ]
  },
  {
   "cell_type": "code",
   "execution_count": 17,
   "id": "4e8f30b5-1cb9-4369-b5fa-df16d93618d5",
   "metadata": {},
   "outputs": [],
   "source": [
    "t = [x*i for i in range(1, 11) if i%2==0]"
   ]
  },
  {
   "cell_type": "code",
   "execution_count": 19,
   "id": "ec68612a-b59b-4031-b481-fe8bee6b2c71",
   "metadata": {},
   "outputs": [
    {
     "data": {
      "text/plain": [
       "[38, 76, 114, 152, 190]"
      ]
     },
     "execution_count": 19,
     "metadata": {},
     "output_type": "execute_result"
    }
   ],
   "source": [
    "t"
   ]
  },
  {
   "cell_type": "code",
   "execution_count": 5,
   "id": "377c7165-5486-4227-8ef5-955c6e9da373",
   "metadata": {},
   "outputs": [
    {
     "name": "stdout",
     "output_type": "stream",
     "text": [
      "Loop time: 0.2196178436279297\n",
      "List Comprehension time: 0.1503911018371582\n"
     ]
    }
   ],
   "source": [
    "import time\n",
    "\n",
    "# Using a for loop\n",
    "start = time.time()\n",
    "squares_loop = []\n",
    "for x in range(10**6):  #loops iterate for x in range: (0 to 999,999)\n",
    "    squares_loop.append(x**2)\n",
    "print(\"Loop time:\", time.time() - start)\n",
    "\n",
    "# Using list comprehension\n",
    "start = time.time()\n",
    "squares_comp = [x**2 for x in range(10**6)]\n",
    "print(\"List Comprehension time:\", time.time() - start)"
   ]
  }
 ],
 "metadata": {
  "kernelspec": {
   "display_name": "Python [conda env:base] *",
   "language": "python",
   "name": "conda-base-py"
  },
  "language_info": {
   "codemirror_mode": {
    "name": "ipython",
    "version": 3
   },
   "file_extension": ".py",
   "mimetype": "text/x-python",
   "name": "python",
   "nbconvert_exporter": "python",
   "pygments_lexer": "ipython3",
   "version": "3.12.3"
  }
 },
 "nbformat": 4,
 "nbformat_minor": 5
}
