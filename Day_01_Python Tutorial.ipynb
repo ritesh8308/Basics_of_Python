{
 "cells": [
  {
   "cell_type": "markdown",
   "id": "cbc846eb",
   "metadata": {},
   "source": [
    "### Core Features of Python:\n",
    "- Readable & beginner-friendly syntax – perfect for quick development.\n",
    "\n",
    "- Dynamic typing & flexibility – supports multiple programming paradigms.\n",
    "\n",
    "- Massive community & support – tons of tutorials, forums, and resources.\n",
    "\n",
    "- Integration capability – works well with C, C++, SQL, and web frameworks."
   ]
  },
  {
   "cell_type": "markdown",
   "id": "d4221f44",
   "metadata": {},
   "source": [
    "### Why Choose Python for Data Science:\n",
    "- Easy to learn, hard to outgrow – ideal for both students and professionals.\n",
    "\n",
    "- Streamlined workflows – from data prep to model deployment.\n",
    "\n",
    "- Open-source & scalable – zero cost and works for small or big data.\n",
    "\n",
    "- Strong ecosystem – deeply integrated with AI, ML, and cloud platforms."
   ]
  },
  {
   "cell_type": "markdown",
   "id": "86e414a4",
   "metadata": {},
   "source": [
    "### Popular Libraries for Data Science:\n",
    "1. NumPy – fast numerical computations and array handling.\n",
    "\n",
    "2. pandas – powerful tools for data cleaning, transformation, and analysis.\n",
    "\n",
    "3. Matplotlib & Seaborn – high-quality visualizations and plots.\n",
    "\n",
    "4. Scikit-learn – machine learning made simple.\n",
    "\n",
    "5. Statsmodels – statistical modeling and testing.\n",
    "\n",
    "6. Jupyter Notebook – interactive coding with rich documentation."
   ]
  },
  {
   "cell_type": "code",
   "execution_count": 19,
   "id": "f3f51da7",
   "metadata": {},
   "outputs": [
    {
     "name": "stdout",
     "output_type": "stream",
     "text": [
      "hello world\n"
     ]
    }
   ],
   "source": [
    "print(\"hello world\")"
   ]
  },
  {
   "cell_type": "code",
   "execution_count": 21,
   "id": "98e103d6",
   "metadata": {},
   "outputs": [],
   "source": [
    "a = 0"
   ]
  },
  {
   "cell_type": "markdown",
   "id": "1a917a10",
   "metadata": {},
   "source": [
    "# Python Tutorial"
   ]
  },
  {
   "cell_type": "markdown",
   "id": "ba209e8f",
   "metadata": {},
   "source": [
    "Python is a general purpose object oriented programming language\n",
    " - its amazing\n",
    " - its wonderful\n",
    " \n",
    " ## Lets learn"
   ]
  },
  {
   "cell_type": "code",
   "execution_count": 23,
   "id": "a24523e8",
   "metadata": {},
   "outputs": [],
   "source": [
    "a = 57"
   ]
  },
  {
   "cell_type": "code",
   "execution_count": 25,
   "id": "134a013b",
   "metadata": {},
   "outputs": [],
   "source": [
    "b=8"
   ]
  },
  {
   "cell_type": "code",
   "execution_count": 27,
   "id": "37eb1259",
   "metadata": {},
   "outputs": [
    {
     "data": {
      "text/plain": [
       "65"
      ]
     },
     "execution_count": 27,
     "metadata": {},
     "output_type": "execute_result"
    }
   ],
   "source": [
    "a + b"
   ]
  },
  {
   "cell_type": "code",
   "execution_count": 29,
   "id": "f92b33ff",
   "metadata": {},
   "outputs": [],
   "source": [
    "c = 5"
   ]
  },
  {
   "cell_type": "code",
   "execution_count": 31,
   "id": "34f935b7",
   "metadata": {},
   "outputs": [],
   "source": [
    "d = 5\n",
    "e = 64"
   ]
  },
  {
   "cell_type": "code",
   "execution_count": 33,
   "id": "6d911c97",
   "metadata": {},
   "outputs": [],
   "source": [
    "d = 66"
   ]
  },
  {
   "cell_type": "code",
   "execution_count": 35,
   "id": "bc2d57c9-e88e-454d-8d00-355b78468da6",
   "metadata": {},
   "outputs": [
    {
     "data": {
      "text/plain": [
       "66"
      ]
     },
     "execution_count": 35,
     "metadata": {},
     "output_type": "execute_result"
    }
   ],
   "source": [
    "d"
   ]
  },
  {
   "cell_type": "code",
   "execution_count": null,
   "id": "1f5cb2b7-b35a-43be-b3a6-f21cbf81d688",
   "metadata": {},
   "outputs": [],
   "source": []
  }
 ],
 "metadata": {
  "kernelspec": {
   "display_name": "Python [conda env:base] *",
   "language": "python",
   "name": "conda-base-py"
  },
  "language_info": {
   "codemirror_mode": {
    "name": "ipython",
    "version": 3
   },
   "file_extension": ".py",
   "mimetype": "text/x-python",
   "name": "python",
   "nbconvert_exporter": "python",
   "pygments_lexer": "ipython3",
   "version": "3.12.3"
  }
 },
 "nbformat": 4,
 "nbformat_minor": 5
}
