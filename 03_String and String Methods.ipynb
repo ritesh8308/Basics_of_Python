{
 "cells": [
  {
   "cell_type": "code",
   "execution_count": 30,
   "id": "8e2f609d-641d-4d58-84e7-2a0fa3556d9a",
   "metadata": {},
   "outputs": [],
   "source": [
    "name = \"Harry\""
   ]
  },
  {
   "cell_type": "code",
   "execution_count": 32,
   "id": "468d30f5-192e-4017-bf2e-aebdbcb11f93",
   "metadata": {},
   "outputs": [
    {
     "data": {
      "text/plain": [
       "'Harry'"
      ]
     },
     "execution_count": 32,
     "metadata": {},
     "output_type": "execute_result"
    }
   ],
   "source": [
    "name"
   ]
  },
  {
   "cell_type": "code",
   "execution_count": 34,
   "id": "b99813a3-b202-4568-90cf-c451d35d5ea3",
   "metadata": {},
   "outputs": [
    {
     "data": {
      "text/plain": [
       "'HARRY'"
      ]
     },
     "execution_count": 34,
     "metadata": {},
     "output_type": "execute_result"
    }
   ],
   "source": [
    "name.upper()"
   ]
  },
  {
   "cell_type": "code",
   "execution_count": 36,
   "id": "13a2b535-3651-4e69-98b9-f20a37bc71ac",
   "metadata": {},
   "outputs": [
    {
     "data": {
      "text/plain": [
       "True"
      ]
     },
     "execution_count": 36,
     "metadata": {},
     "output_type": "execute_result"
    }
   ],
   "source": [
    "name.endswith(\"ry\")"
   ]
  },
  {
   "cell_type": "code",
   "execution_count": 38,
   "id": "c33f4ecf-d562-4715-b8de-9453a6f54cd0",
   "metadata": {},
   "outputs": [
    {
     "data": {
      "text/plain": [
       "False"
      ]
     },
     "execution_count": 38,
     "metadata": {},
     "output_type": "execute_result"
    }
   ],
   "source": [
    "name.endswith(\"jerry\")"
   ]
  },
  {
   "cell_type": "code",
   "execution_count": 40,
   "id": "2bc1f0ff-15e7-42c4-bad3-d718a1b1bf4d",
   "metadata": {},
   "outputs": [
    {
     "data": {
      "text/plain": [
       "'harry'"
      ]
     },
     "execution_count": 40,
     "metadata": {},
     "output_type": "execute_result"
    }
   ],
   "source": [
    "name.lower()"
   ]
  },
  {
   "cell_type": "code",
   "execution_count": 42,
   "id": "759ebf33-03c1-495e-99be-74801bfb2bc8",
   "metadata": {},
   "outputs": [
    {
     "data": {
      "text/plain": [
       "2"
      ]
     },
     "execution_count": 42,
     "metadata": {},
     "output_type": "execute_result"
    }
   ],
   "source": [
    "name.count(\"r\")"
   ]
  },
  {
   "cell_type": "code",
   "execution_count": 44,
   "id": "6ffb79c7-6ac0-4172-a2c9-43a58a16b2e9",
   "metadata": {},
   "outputs": [
    {
     "data": {
      "text/plain": [
       "0"
      ]
     },
     "execution_count": 44,
     "metadata": {},
     "output_type": "execute_result"
    }
   ],
   "source": [
    "name.count(\"o\")"
   ]
  },
  {
   "cell_type": "code",
   "execution_count": 46,
   "id": "8b5a187a-5d5b-4420-92fe-df4ffedf32a1",
   "metadata": {},
   "outputs": [
    {
     "name": "stdout",
     "output_type": "stream",
     "text": [
      "13\n"
     ]
    }
   ],
   "source": [
    "s = \"CodeWithHarry\"\n",
    "print(len(s))  # Output: 13\n"
   ]
  },
  {
   "cell_type": "code",
   "execution_count": 48,
   "id": "740c848c-3335-42a9-a3e1-a215bb2bd991",
   "metadata": {},
   "outputs": [
    {
     "data": {
      "text/plain": [
       "'CodeWith'"
      ]
     },
     "execution_count": 48,
     "metadata": {},
     "output_type": "execute_result"
    }
   ],
   "source": [
    "s[0:8]"
   ]
  },
  {
   "cell_type": "code",
   "execution_count": 11,
   "id": "b7722a1d-835f-40ac-b8ca-e737860b166c",
   "metadata": {},
   "outputs": [
    {
     "data": {
      "text/plain": [
       "'odeWithHarr'"
      ]
     },
     "execution_count": 11,
     "metadata": {},
     "output_type": "execute_result"
    }
   ],
   "source": [
    "s[1:-1]"
   ]
  },
  {
   "cell_type": "markdown",
   "id": "40bae9b8-35cd-47de-b0a8-2a22d8186432",
   "metadata": {},
   "source": [
    "#TACKLING -VE INDICES:\n",
    "\n",
    "add lenght.str into that particular -ve index"
   ]
  },
  {
   "cell_type": "code",
   "execution_count": 53,
   "id": "01cab33d-229d-459e-a173-8f338f433e44",
   "metadata": {},
   "outputs": [
    {
     "data": {
      "text/plain": [
       "'odeWithHarr'"
      ]
     },
     "execution_count": 53,
     "metadata": {},
     "output_type": "execute_result"
    }
   ],
   "source": [
    "s[1:12]"
   ]
  },
  {
   "cell_type": "code",
   "execution_count": 55,
   "id": "2412f0e2-b921-4aee-b01b-43883cc44a41",
   "metadata": {},
   "outputs": [
    {
     "data": {
      "text/plain": [
       "'odeWithHarr'"
      ]
     },
     "execution_count": 55,
     "metadata": {},
     "output_type": "execute_result"
    }
   ],
   "source": [
    "s[-12:-1]"
   ]
  },
  {
   "cell_type": "code",
   "execution_count": 57,
   "id": "c41f7524-e744-4c87-86cc-98cf4008cae2",
   "metadata": {},
   "outputs": [
    {
     "data": {
      "text/plain": [
       "'odeWithHarr'"
      ]
     },
     "execution_count": 57,
     "metadata": {},
     "output_type": "execute_result"
    }
   ],
   "source": [
    "s[1:12]"
   ]
  }
 ],
 "metadata": {
  "kernelspec": {
   "display_name": "Python [conda env:base] *",
   "language": "python",
   "name": "conda-base-py"
  },
  "language_info": {
   "codemirror_mode": {
    "name": "ipython",
    "version": 3
   },
   "file_extension": ".py",
   "mimetype": "text/x-python",
   "name": "python",
   "nbconvert_exporter": "python",
   "pygments_lexer": "ipython3",
   "version": "3.12.7"
  }
 },
 "nbformat": 4,
 "nbformat_minor": 5
}
