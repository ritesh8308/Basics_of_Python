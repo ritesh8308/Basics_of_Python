{
 "cells": [
  {
   "cell_type": "markdown",
   "id": "09047855-8946-4a31-929a-531a63303a37",
   "metadata": {},
   "source": [
    "# Day_02:  Taking input from the user"
   ]
  },
  {
   "cell_type": "code",
   "execution_count": null,
   "id": "f883f732-8184-4359-9611-dc05dfbdb705",
   "metadata": {},
   "outputs": [],
   "source": [
    "a = input(\"Enter the value of a\") # By default it takes user input as string"
   ]
  },
  {
   "cell_type": "code",
   "execution_count": null,
   "id": "6350f2c6-06fb-4bb5-bc1c-3abf3f7cbdde",
   "metadata": {},
   "outputs": [],
   "source": [
    "a"
   ]
  },
  {
   "cell_type": "code",
   "execution_count": null,
   "id": "7ef71acb-ab9e-495a-ba91-9c1ee953b97e",
   "metadata": {},
   "outputs": [],
   "source": [
    "b = input(\"Enter the value of b\")"
   ]
  },
  {
   "cell_type": "code",
   "execution_count": null,
   "id": "c7a9c361-5673-4977-9471-a14ba0c0594d",
   "metadata": {},
   "outputs": [],
   "source": [
    "b"
   ]
  },
  {
   "cell_type": "code",
   "execution_count": null,
   "id": "8d0d3ff3-da5e-450b-a06e-f19d0c5db5ed",
   "metadata": {},
   "outputs": [],
   "source": [
    "a + b"
   ]
  },
  {
   "cell_type": "code",
   "execution_count": null,
   "id": "918c1941-b897-4ef9-9e12-8223ddff375d",
   "metadata": {},
   "outputs": [],
   "source": [
    "int(a) + int(b)"
   ]
  },
  {
   "cell_type": "code",
   "execution_count": null,
   "id": "5017eed5-11ac-4167-b571-db89e73b3b79",
   "metadata": {},
   "outputs": [],
   "source": [
    "c = input()"
   ]
  },
  {
   "cell_type": "code",
   "execution_count": null,
   "id": "43bd1ae6-cd4e-44bf-b9bc-cc031a99718c",
   "metadata": {},
   "outputs": [],
   "source": [
    "c"
   ]
  },
  {
   "cell_type": "code",
   "execution_count": null,
   "id": "9415bba3-5e4d-4313-b118-c3162d392b78",
   "metadata": {},
   "outputs": [],
   "source": [
    "age = int(input(\"Enter you current age: \"))  #TypeCasting string to an Integer."
   ]
  },
  {
   "cell_type": "code",
   "execution_count": null,
   "id": "e4e47305-cd9f-4193-bb51-e957111cef5d",
   "metadata": {},
   "outputs": [],
   "source": [
    "age"
   ]
  },
  {
   "cell_type": "code",
   "execution_count": null,
   "id": "0fdd0cc8-a465-436b-950b-9dfe0089df3a",
   "metadata": {},
   "outputs": [],
   "source": []
  }
 ],
 "metadata": {
  "kernelspec": {
   "display_name": "Python [conda env:base] *",
   "language": "python",
   "name": "conda-base-py"
  },
  "language_info": {
   "codemirror_mode": {
    "name": "ipython",
    "version": 3
   },
   "file_extension": ".py",
   "mimetype": "text/x-python",
   "name": "python",
   "nbconvert_exporter": "python",
   "pygments_lexer": "ipython3",
   "version": "3.12.3"
  }
 },
 "nbformat": 4,
 "nbformat_minor": 5
}
