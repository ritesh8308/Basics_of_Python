{
 "cells": [
  {
   "cell_type": "markdown",
   "id": "28cd30a2-d0d2-467c-8bed-9d5313a2df5b",
   "metadata": {},
   "source": [
    " # Day_13 : Practice + Recap(day 7-11) — Data Structures, File Handling & OOP\n",
    "\n",
    "## Objectives\n",
    "- Review Day 2: Variables & Data Types\n",
    "- Practice key concepts from Days 7–11:\n",
    "  - Lists, Tuples, Sets, Dictionaries\n",
    "  - File Handling & JSON\n",
    "  - Functions & Lambda\n",
    "  - Object-Oriented Programming"
   ]
  },
  {
   "cell_type": "markdown",
   "id": "da34f17c-e612-4dfd-b8e7-1036c68b58ea",
   "metadata": {},
   "source": [
    "## 1. Variables & Typecasting"
   ]
  },
  {
   "cell_type": "code",
   "execution_count": 4,
   "id": "732d0e7b-8ce1-4b51-85a7-80a49a54af93",
   "metadata": {},
   "outputs": [
    {
     "name": "stdout",
     "output_type": "stream",
     "text": [
      "Ritesh is 21 years old, 5.9 feet tall, and coder status: True\n"
     ]
    }
   ],
   "source": [
    "# Day 2 Review: Variables & Typecasting\n",
    "\n",
    "name = \"Ritesh\"\n",
    "age = 21\n",
    "height = float(\"5.9\")\n",
    "is_coder = bool(\"True\")\n",
    "\n",
    "print(f\"{name} is {age} years old, {height} feet tall, and coder status: {is_coder}\")\n"
   ]
  },
  {
   "cell_type": "markdown",
   "id": "3e7827dd-acf4-428c-a21e-3bbb12519503",
   "metadata": {},
   "source": [
    "## 2. Lists, Tuples & Sets"
   ]
  },
  {
   "cell_type": "code",
   "execution_count": 6,
   "id": "d09ad3b3-6d9a-454f-ac41-8bc2dba4d359",
   "metadata": {},
   "outputs": [
    {
     "name": "stdout",
     "output_type": "stream",
     "text": [
      "List: ['Python', 'Java', 'C++', 'Python']\n",
      "Set (no duplicates): {'C++', 'Python', 'Java'}\n",
      "Tuple: (17.68, 75.33)\n",
      "Single_element_tuple: (10,)\n"
     ]
    }
   ],
   "source": [
    "#  Lists, Tuples, Sets Practice\n",
    "\n",
    "languages = [\"Python\", \"Java\", \"C++\", \"Python\"]\n",
    "print(\"List:\", languages)\n",
    "\n",
    "unique_langs = set(languages)\n",
    "print(\"Set (no duplicates):\", unique_langs)\n",
    "\n",
    "coordinates = (17.68, 75.33)\n",
    "print(\"Tuple:\", coordinates)\n",
    "\n",
    "only_x_coordinate = (10,)  # comma after x = 10 is a MUST\n",
    "print(\"Single_element_tuple:\", only_x_coordinate) \n"
   ]
  },
  {
   "cell_type": "markdown",
   "id": "a49a0efa-2a6e-4a06-92e7-a36443c93c7a",
   "metadata": {},
   "source": [
    "## 3. Dictionaries"
   ]
  },
  {
   "cell_type": "code",
   "execution_count": 8,
   "id": "49f1508c-bde4-4024-8373-ca6f07964c34",
   "metadata": {},
   "outputs": [
    {
     "name": "stdout",
     "output_type": "stream",
     "text": [
      "Name: Ritesh\n",
      "Updated Profile: {'name': 'Ritesh', 'age': 22, 'skills': ['Python', 'Flask', 'SQL', 'Bootstrap']}\n"
     ]
    }
   ],
   "source": [
    "#  Dictionary Practice: (key-value pair)\n",
    "\n",
    "student = {\n",
    "    \"name\": \"Ritesh\",\n",
    "    \"age\": 21,\n",
    "    \"skills\": [\"Python\", \"Flask\", \"SQL\"]\n",
    "}\n",
    "\n",
    "# Access & update\n",
    "print(\"Name:\", student[\"name\"])\n",
    "student[\"age\"] += 1\n",
    "student[\"skills\"].append(\"Bootstrap\")\n",
    "print(\"Updated Profile:\", student)\n"
   ]
  },
  {
   "cell_type": "markdown",
   "id": "5153580c-1df2-4acd-bbf9-97e0172956c6",
   "metadata": {},
   "source": [
    "## 4. File Handling"
   ]
  },
  {
   "cell_type": "code",
   "execution_count": 10,
   "id": "d7f3f48d-f333-4d38-aa83-40912e0d7f46",
   "metadata": {},
   "outputs": [
    {
     "name": "stdout",
     "output_type": "stream",
     "text": [
      "File Content:\n",
      " Name: Ritesh\n",
      "Age: 22\n",
      "Skills: Python, Flask\n"
     ]
    }
   ],
   "source": [
    "#  File Handling Practice\n",
    "\n",
    "# Write to file\n",
    "with open(\"profile.txt\", \"w\") as file:\n",
    "    file.write(\"Name: Ritesh\\nAge: 22\\nSkills: Python, Flask\")\n",
    "\n",
    "# Read from file\n",
    "with open(\"profile.txt\", \"r\") as file:\n",
    "    content = file.read()\n",
    "    print(\"File Content:\\n\", content)\n",
    "\n",
    "# WE DON'T NEED TO CLOSE THE FILE [f.close()] AS: with open automatically closes it for us "
   ]
  },
  {
   "cell_type": "markdown",
   "id": "e4eb1f89-bbc4-48c3-9e19-6f58f7c5421a",
   "metadata": {},
   "source": [
    "## 5. JSON Module"
   ]
  },
  {
   "cell_type": "code",
   "execution_count": 12,
   "id": "2b7c028a-d257-4a22-9773-381f438e673f",
   "metadata": {},
   "outputs": [
    {
     "name": "stdout",
     "output_type": "stream",
     "text": [
      "Loaded JSON: {'name': 'Ritesh', 'skills': ['Python', 'Flask', 'SQL'], 'active': True}\n"
     ]
    }
   ],
   "source": [
    "# JSON Practice\n",
    "\n",
    "import json\n",
    "\n",
    "data = {\n",
    "    \"name\": \"Ritesh\",\n",
    "    \"skills\": [\"Python\", \"Flask\", \"SQL\"],\n",
    "    \"active\": True\n",
    "}\n",
    "\n",
    "# Write JSON\n",
    "with open(\"data.json\", \"w\") as f:\n",
    "    json.dump(data, f)\n",
    "\n",
    "# Read JSON\n",
    "with open(\"data.json\", \"r\") as f:\n",
    "    loaded = json.load(f)\n",
    "    print(\"Loaded JSON:\", loaded)\n"
   ]
  },
  {
   "cell_type": "markdown",
   "id": "f9a11b40-9d69-417e-9dd9-7ef2eff71079",
   "metadata": {},
   "source": [
    "## 6. Functions and Lambda"
   ]
  },
  {
   "cell_type": "code",
   "execution_count": 14,
   "id": "9fadf7d6-1dc5-499f-b143-ae38e8e288c3",
   "metadata": {},
   "outputs": [
    {
     "name": "stdout",
     "output_type": "stream",
     "text": [
      "Hello, Ritesh!\n",
      "Square of 5: 25\n"
     ]
    }
   ],
   "source": [
    "# Functions & Lambda\n",
    "\n",
    "def greet(name):\n",
    "    return f\"Hello, {name}!\"\n",
    "\n",
    "print(greet(\"Ritesh\"))\n",
    "\n",
    "# Lambda function\n",
    "square = lambda x: x**2  # One liner functions\n",
    "print(\"Square of 5:\", square(5))\n"
   ]
  },
  {
   "cell_type": "markdown",
   "id": "c423934e-fe49-4390-ae93-e6e9341739ed",
   "metadata": {},
   "source": [
    "## 7. Object-Oriented Programming"
   ]
  },
  {
   "cell_type": "code",
   "execution_count": 16,
   "id": "a3068cf1-aa2d-4492-affe-082a0a8dab1e",
   "metadata": {},
   "outputs": [
    {
     "name": "stdout",
     "output_type": "stream",
     "text": [
      "Ritesh, Age: 21, Skills: Python, Flask, SQL\n"
     ]
    }
   ],
   "source": [
    "# OOP Practice\n",
    "\n",
    "# Create Class\n",
    "class Student:\n",
    "    def __init__(self, name, age, skills):\n",
    "        self.name = name\n",
    "        self.age = age\n",
    "        self.skills = skills\n",
    "\n",
    "    def add_skill(self, skill):\n",
    "        self.skills.append(skill)\n",
    "\n",
    "# Magic methods or dunder methods\n",
    "    def __str__(self):\n",
    "        return f\"{self.name}, Age: {self.age}, Skills: {', '.join(self.skills)}\"\n",
    "\n",
    "# Create object\n",
    "ritesh = Student(\"Ritesh\", 21, [\"Python\", \"Flask\"])\n",
    "ritesh.add_skill(\"SQL\")\n",
    "print(ritesh)\n"
   ]
  },
  {
   "cell_type": "markdown",
   "id": "d9d2b495-3a4c-4433-a4b8-364fdd0cfa8f",
   "metadata": {},
   "source": [
    "## 8. Why it’s useful: Magic methods or dunder methods\n",
    " - Makes debugging easier\n",
    "\n",
    " - Improves readability when printing objects\n",
    "\n",
    " - Helps when logging or displaying object info in UIs or reports"
   ]
  },
  {
   "cell_type": "markdown",
   "id": "f69f92a3-08e2-480c-88ea-de971d09538c",
   "metadata": {
    "jp-MarkdownHeadingCollapsed": true
   },
   "source": [
    "### 🔧 Common Magic Methods and Their Purpose\n",
    "\n",
    "| **Magic Method**        | **Triggered When You...**           | **Purpose**                                  |\n",
    "|-------------------------|--------------------------------------|----------------------------------------------|\n",
    "| `__str__`               | Use `print(obj)` or `str(obj)`       | Returns a readable string representation     |\n",
    "| `__repr__`              | Use `repr(obj)` or in console        | Returns an unambiguous string (for devs)     |\n",
    "| `__init__`              | Create an object `obj = Class()`     | Initializes object attributes                |\n",
    "| `__len__`               | Use `len(obj)`                       | Returns length                               |\n",
    "| `__getitem__`           | Use `obj[key]`                       | Enables indexing                             |\n",
    "| `__setitem__`           | Use `obj[key] = value`               | Enables assignment via index/key             |\n",
    "| `__eq__`, `__lt__`, etc.| Use comparison operators (`==`, `<`) | Custom comparison logic                      |\n",
    "| `__add__`, `__sub__`, etc.| Use arithmetic operators (`+`, `-`) | Custom math behavior                         |\n"
   ]
  }
 ],
 "metadata": {
  "kernelspec": {
   "display_name": "Python [conda env:base] *",
   "language": "python",
   "name": "conda-base-py"
  },
  "language_info": {
   "codemirror_mode": {
    "name": "ipython",
    "version": 3
   },
   "file_extension": ".py",
   "mimetype": "text/x-python",
   "name": "python",
   "nbconvert_exporter": "python",
   "pygments_lexer": "ipython3",
   "version": "3.12.3"
  }
 },
 "nbformat": 4,
 "nbformat_minor": 5
}
