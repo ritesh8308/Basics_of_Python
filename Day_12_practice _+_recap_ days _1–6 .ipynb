{
 "cells": [
  {
   "cell_type": "markdown",
   "id": "21823eae-2219-481a-ab66-e75ed9cbaa73",
   "metadata": {},
   "source": [
    "# Day_12 : practice _+_ recap_ days _1–6"
   ]
  },
  {
   "cell_type": "markdown",
   "id": "b0a29233-34ad-4314-acc3-7a6afdcd2792",
   "metadata": {},
   "source": [
    "## 🔁 Recap: Days 1–6"
   ]
  },
  {
   "cell_type": "markdown",
   "id": "6a45adc1-2129-461b-a404-ede2a5ffc755",
   "metadata": {},
   "source": [
    "\n",
    "###  Python Basics\n",
    "- Interpreted, high-level, versatile language\n",
    "- Great for data science due to rich libraries (NumPy, Pandas, etc.)"
   ]
  },
  {
   "cell_type": "code",
   "execution_count": 4,
   "id": "1e77418c-5715-4a29-84de-d3d5ad38bd95",
   "metadata": {},
   "outputs": [
    {
     "name": "stdin",
     "output_type": "stream",
     "text": [
      "Enter your name:  Ram\n",
      "Enter your age:  23\n"
     ]
    },
    {
     "name": "stdout",
     "output_type": "stream",
     "text": [
      "Hello Ram, you will be 24 next year!\n"
     ]
    }
   ],
   "source": [
    "name = input(\"Enter your name: \")\n",
    "age = int(input(\"Enter your age: \"))\n",
    "print(f\"Hello {name}, you will be {age + 1} next year!\")\n"
   ]
  },
  {
   "cell_type": "markdown",
   "id": "1de8047f-5e58-4d40-907b-1eff1bab2f27",
   "metadata": {},
   "source": [
    "\n",
    "\n",
    "###  Variables & Data Types\n",
    "- `int`, `float`, `str`, `bool`, `list`, `tuple`, `dict`, `set`\n",
    "- Typecasting: `int()`, `str()`, `float()`, `bool()`\n",
    "\n",
    "\n",
    "\n",
    "\n",
    "\n",
    "\n"
   ]
  },
  {
   "cell_type": "code",
   "execution_count": 6,
   "id": "2a6636d0-3bd4-41fe-bcee-7c9c70d8ba58",
   "metadata": {},
   "outputs": [
    {
     "name": "stdout",
     "output_type": "stream",
     "text": [
      "Integer: 21 <class 'int'>\n",
      "Float: 5.9 <class 'float'>\n",
      "String: Ritesh <class 'str'>\n",
      "Boolean: True <class 'bool'>\n",
      "List: ['Python', 'Flask', 'SQL'] <class 'list'>\n",
      "Tuple: (17.68, 75.33) <class 'tuple'>\n",
      "Dictionary: {'name': 'Ritesh', 'age': 21, 'student': True} <class 'dict'>\n",
      "Set (no duplicates): {'C++', 'Python', 'Java'} <class 'set'>\n",
      "Float to Int: 89\n",
      "Int to String: 2025 <class 'str'>\n",
      "String to Float: 99.99 <class 'float'>\n",
      "Empty list to Bool: False <class 'list'>\n",
      "Non-empty string to Bool: True <class 'str'>\n"
     ]
    }
   ],
   "source": [
    "# Variable Declaration & Data Types\n",
    "\n",
    "# Integer\n",
    "age = 21\n",
    "print(\"Integer:\", age, type(age))\n",
    "\n",
    "# Float\n",
    "height = 5.9\n",
    "print(\"Float:\", height, type(height))\n",
    "\n",
    "# String\n",
    "name = \"Ritesh\"\n",
    "print(\"String:\", name, type(name))\n",
    "\n",
    "# Boolean\n",
    "is_student = True\n",
    "print(\"Boolean:\", is_student, type(is_student))\n",
    "\n",
    "# List\n",
    "skills = [\"Python\", \"Flask\", \"SQL\"]\n",
    "print(\"List:\", skills, type(skills))\n",
    "\n",
    "# Tuple\n",
    "coordinates = (17.68, 75.33)\n",
    "print(\"Tuple:\", coordinates, type(coordinates))\n",
    "\n",
    "# Dictionary\n",
    "profile = {\"name\": \"Ritesh\", \"age\": 21, \"student\": True}\n",
    "print(\"Dictionary:\", profile, type(profile))\n",
    "\n",
    "# Set\n",
    "unique_languages = {\"Python\", \"Java\", \"Python\", \"C++\"}\n",
    "print(\"Set (no duplicates):\", unique_languages, type(unique_languages))\n",
    "\n",
    "# Typecasting Examples\n",
    "\n",
    "# Convert float to int\n",
    "score = 89.7\n",
    "score_int = int(score)\n",
    "print(\"Float to Int:\", score_int)\n",
    "\n",
    "# Convert int to string\n",
    "year = 2025\n",
    "year_str = str(year)\n",
    "print(\"Int to String:\", year_str, type(year_str))\n",
    "\n",
    "# Convert string to float\n",
    "price_str = \"99.99\"\n",
    "price_float = float(price_str)\n",
    "print(\"String to Float:\", price_float, type(price_float))\n",
    "\n",
    "# Convert value to boolean\n",
    "empty_list = []\n",
    "print(\"Empty list to Bool:\", bool(empty_list), type(empty_list))  # False\n",
    "\n",
    "non_empty_str = \"Hello\"\n",
    "print(\"Non-empty string to Bool:\", bool(non_empty_str), type(non_empty_str))  # True\n"
   ]
  },
  {
   "cell_type": "markdown",
   "id": "9e19c9de-0851-4760-b74f-17fb937e625f",
   "metadata": {},
   "source": [
    "###  Strings\n",
    "- Immutable sequences of characters\n",
    "- Methods: `.lower()`, `.upper()`, `.replace()`, `.split()`, `.strip()`\n",
    "- f-strings: `f\"Hello {name}\"`"
   ]
  },
  {
   "cell_type": "code",
   "execution_count": 8,
   "id": "a82110dd-a3c8-46fd-87c0-779a587ec21d",
   "metadata": {},
   "outputs": [
    {
     "name": "stdout",
     "output_type": "stream",
     "text": [
      "python is powerful!\n"
     ]
    }
   ],
   "source": [
    "sentence = \"  Python is Awesome!  \"\n",
    "cleaned = sentence.strip().lower().replace(\"awesome\", \"powerful\")\n",
    "print(cleaned)\n"
   ]
  },
  {
   "cell_type": "markdown",
   "id": "a2b421b3-850b-4d03-8d77-88d42d6ea80e",
   "metadata": {},
   "source": [
    "###  Operators\n",
    "- Arithmetic: `+`, `-`, `*`, `/`, `//`, `%`, `**`\n",
    "- Comparison: `==`, `!=`, `<`, `>`, `<=`, `>=`\n",
    "- Logical: `and`, `or`, `not`\n"
   ]
  },
  {
   "cell_type": "code",
   "execution_count": 10,
   "id": "a680c7ed-ed37-432b-b699-2109266ac99e",
   "metadata": {},
   "outputs": [
    {
     "name": "stdout",
     "output_type": "stream",
     "text": [
      "Addition: 13\n",
      "Exponent: 1000\n",
      "Floor Division: 3\n"
     ]
    }
   ],
   "source": [
    "a = 10\n",
    "b = 3\n",
    "print(\"Addition:\", a + b)\n",
    "print(\"Exponent:\", a ** b)\n",
    "print(\"Floor Division:\", a // b)\n"
   ]
  },
  {
   "cell_type": "markdown",
   "id": "3aae1992-87c1-4bdc-866a-24f2c34d4d49",
   "metadata": {},
   "source": [
    "###  Conditionals\n",
    "- `if`, `elif`, `else`\n",
    "- `match` (Python 3.10+)"
   ]
  },
  {
   "cell_type": "code",
   "execution_count": 12,
   "id": "65134c68-a32d-45a0-b066-a59ea2471588",
   "metadata": {},
   "outputs": [
    {
     "name": "stdin",
     "output_type": "stream",
     "text": [
      "Enter your score:  100\n"
     ]
    },
    {
     "name": "stdout",
     "output_type": "stream",
     "text": [
      "Grade: A\n"
     ]
    }
   ],
   "source": [
    "score = int(input(\"Enter your score: \"))\n",
    "\n",
    "if score >= 90:\n",
    "    print(\"Grade: A\")\n",
    "elif score >= 75:\n",
    "    print(\"Grade: B\")\n",
    "elif score >= 60:\n",
    "    print(\"Grade: C\")\n",
    "else:\n",
    "    print(\"Grade: D\")\n"
   ]
  },
  {
   "cell_type": "markdown",
   "id": "cd5d13da-1c7e-4b42-8068-83265aec99a3",
   "metadata": {},
   "source": [
    "###  Loops\n",
    "- `for`, `while`\n",
    "- `break`, `continue`, `pass`\n",
    "- List comprehensions: `[x for x in iterable if condition]`"
   ]
  },
  {
   "cell_type": "code",
   "execution_count": 14,
   "id": "6e2c680c-d195-47a3-b6cc-7f01b641817e",
   "metadata": {},
   "outputs": [
    {
     "name": "stdout",
     "output_type": "stream",
     "text": [
      "Even Squares: [4, 16, 36]\n"
     ]
    }
   ],
   "source": [
    "numbers = [1, 2, 3, 4, 5, 6]\n",
    "squares = [x**2 for x in numbers if x % 2 == 0]\n",
    "print(\"Even Squares:\", squares)\n"
   ]
  },
  {
   "cell_type": "code",
   "execution_count": null,
   "id": "9d382019-b228-4386-8b4c-6eeafe831091",
   "metadata": {},
   "outputs": [],
   "source": []
  }
 ],
 "metadata": {
  "kernelspec": {
   "display_name": "Python [conda env:base] *",
   "language": "python",
   "name": "conda-base-py"
  },
  "language_info": {
   "codemirror_mode": {
    "name": "ipython",
    "version": 3
   },
   "file_extension": ".py",
   "mimetype": "text/x-python",
   "name": "python",
   "nbconvert_exporter": "python",
   "pygments_lexer": "ipython3",
   "version": "3.12.3"
  }
 },
 "nbformat": 4,
 "nbformat_minor": 5
}
