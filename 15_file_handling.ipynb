{
 "cells": [
  {
   "cell_type": "markdown",
   "id": "45f60ec5-71ce-43fd-b9df-6347f721b371",
   "metadata": {},
   "source": [
    "# File Handling in Python\n",
    "\n",
    "File handling allows Python programs to **read, write, and manipulate files** stored on disk. Python provides built-in functions for working with files.\n",
    "\n",
    "---\n",
    "\n",
    "## Opening a File\n",
    "Python uses the `open()` function to open a file.\n",
    "\n",
    "### **Syntax**\n",
    "```python\n",
    "file = open(\"filename\", mode)\n",
    "```\n",
    "- **`filename`** → The name of the file to open.\n",
    "- **`mode`** → Specifies how the file should be opened.\n",
    "\n",
    "### **File Modes**\n",
    "| Mode | Description |\n",
    "|------|-------------|\n",
    "| `'r'` | Read (default) – Opens file for reading, **raises an error if file does not exist**. |\n",
    "| `'w'` | Write – Opens file for writing, **creates a new file if not found**, and **overwrites existing content**. |\n",
    "| `'a'` | Append – Opens file for writing, **creates a new file if not found**, and appends content instead of overwriting. |\n",
    "| `'x'` | Create – Creates a new file, but **fails if the file already exists**. |\n",
    "| `'b'` | Binary mode – Used with `rb`, `wb`, `ab`, etc., for working with non-text files (e.g., images, PDFs). |\n",
    "| `'t'` | Text mode (default) – Used for text files (e.g., `rt`, `wt`). |\n",
    "\n",
    "---\n",
    "\n",
    "## Reading Files\n",
    "\n",
    "### **Using `read()` – Read Entire File**\n",
    "```python\n",
    "file = open(\"example.txt\", \"r\")\n",
    "content = file.read()\n",
    "print(content)\n",
    "file.close()  # Always close the file after use\n",
    "```\n",
    "\n",
    "### **Using `readline()` – Read Line by Line**\n",
    "```python\n",
    "file = open(\"example.txt\", \"r\")\n",
    "line1 = file.readline()  # Reads first line\n",
    "print(line1)\n",
    "file.close()\n",
    "```\n",
    "\n",
    "### **Using `readlines()` – Read All Lines as List**\n",
    "```python\n",
    "file = open(\"example.txt\", \"r\")\n",
    "lines = file.readlines()  # Reads all lines into a list\n",
    "print(lines)\n",
    "file.close()\n",
    "```\n",
    "\n",
    "---\n",
    "\n",
    "## Writing to Files\n",
    "\n",
    "### **Using `write()` – Overwrites Existing Content**\n",
    "```python\n",
    "file = open(\"example.txt\", \"w\")  # Opens file in write mode\n",
    "file.write(\"Hello, World!\")  # Writes content\n",
    "file.close()\n",
    "```\n",
    "\n",
    "### **Using `writelines()` – Write Multiple Lines**\n",
    "```python\n",
    "lines = [\"Hello\\n\", \"Welcome to Python\\n\", \"File Handling\\n\"]\n",
    "\n",
    "file = open(\"example.txt\", \"w\")\n",
    "file.writelines(lines)  # Writes multiple lines\n",
    "file.close()\n",
    "```\n",
    "\n",
    "---\n",
    "\n",
    "## Appending to a File\n",
    "The **`a` (append) mode** is used to add content to an existing file without erasing previous data.\n",
    "\n",
    "```python\n",
    "file = open(\"example.txt\", \"a\")\n",
    "file.write(\"\\nThis is an additional line.\")\n",
    "file.close()\n",
    "```\n",
    "\n",
    "---\n",
    "\n",
    "## Using `with` Statement (Best Practice)\n",
    "Using `with open()` ensures the file is **automatically closed** after execution.\n",
    "\n",
    "```python\n",
    "with open(\"example.txt\", \"r\") as file:\n",
    "    content = file.read()\n",
    "    print(content)  # No need to manually close the file\n",
    "```\n",
    "\n",
    "---\n",
    "\n",
    "## Checking if a File Exists\n",
    "Use the `os` module to check if a file exists before opening it.\n",
    "\n",
    "```python\n",
    "import os\n",
    "\n",
    "if os.path.exists(\"example.txt\"):\n",
    "    print(\"File exists!\")\n",
    "else:\n",
    "    print(\"File not found!\")\n",
    "```\n",
    "\n",
    "---\n",
    "\n",
    "## Deleting a File\n",
    "Use the `os` module to delete a file.\n",
    "\n",
    "```python\n",
    "import os\n",
    "\n",
    "if os.path.exists(\"example.txt\"):\n",
    "    os.remove(\"example.txt\")\n",
    "    print(\"File deleted.\")\n",
    "else:\n",
    "    print(\"File does not exist.\")\n",
    "```\n",
    "\n",
    "---\n",
    "\n",
    "## Working with Binary Files\n",
    "Binary files (`.jpg`, `.png`, `.pdf`, etc.) should be opened in **binary mode (`'b'`)**.\n",
    "\n",
    "### **Reading a Binary File**\n",
    "```python\n",
    "with open(\"image.jpg\", \"rb\") as file:\n",
    "    data = file.read()\n",
    "    print(data)  # Outputs binary content\n",
    "```\n",
    "\n",
    "### **Writing to a Binary File**\n",
    "```python\n",
    "with open(\"new_image.jpg\", \"wb\") as file:\n",
    "    file.write(data)  # Writes binary content to a new file\n",
    "```\n",
    "\n",
    "---\n",
    "\n",
    "## Summary of File Operations\n",
    "\n",
    "| Operation | Description | Example |\n",
    "|-----------|-------------|---------|\n",
    "| Open file | Open a file | `file = open(\"example.txt\", \"r\")` |\n",
    "| Read file | Read all content | `file.read()` |\n",
    "| Read line | Read one line | `file.readline()` |\n",
    "| Read lines | Read all lines into list | `file.readlines()` |\n",
    "| Write file | Write content (overwrite) | `file.write(\"Hello\")` |\n",
    "| Append file | Add content to the end | `file.write(\"\\nMore text\")` |\n",
    "| Check file existence | Check before opening/deleting | `os.path.exists(\"file.txt\")` |\n",
    "| Delete file | Remove a file | `os.remove(\"file.txt\")` |\n",
    "\n",
    " "
   ]
  },
  {
   "cell_type": "code",
   "execution_count": 3,
   "id": "2037ccd8-cb66-484c-b700-3501f3dc2cf8",
   "metadata": {},
   "outputs": [
    {
     "ename": "FileNotFoundError",
     "evalue": "[Errno 2] No such file or directory: 'text.txt'",
     "output_type": "error",
     "traceback": [
      "\u001b[1;31m---------------------------------------------------------------------------\u001b[0m",
      "\u001b[1;31mFileNotFoundError\u001b[0m                         Traceback (most recent call last)",
      "Cell \u001b[1;32mIn[3], line 1\u001b[0m\n\u001b[1;32m----> 1\u001b[0m f \u001b[38;5;241m=\u001b[39m \u001b[38;5;28mopen\u001b[39m(\u001b[38;5;124m\"\u001b[39m\u001b[38;5;124mtext.txt\u001b[39m\u001b[38;5;124m\"\u001b[39m, \u001b[38;5;124m\"\u001b[39m\u001b[38;5;124mr\u001b[39m\u001b[38;5;124m\"\u001b[39m)\n",
      "File \u001b[1;32m~\\anaconda3\\Lib\\site-packages\\IPython\\core\\interactiveshell.py:324\u001b[0m, in \u001b[0;36m_modified_open\u001b[1;34m(file, *args, **kwargs)\u001b[0m\n\u001b[0;32m    317\u001b[0m \u001b[38;5;28;01mif\u001b[39;00m file \u001b[38;5;129;01min\u001b[39;00m {\u001b[38;5;241m0\u001b[39m, \u001b[38;5;241m1\u001b[39m, \u001b[38;5;241m2\u001b[39m}:\n\u001b[0;32m    318\u001b[0m     \u001b[38;5;28;01mraise\u001b[39;00m \u001b[38;5;167;01mValueError\u001b[39;00m(\n\u001b[0;32m    319\u001b[0m         \u001b[38;5;124mf\u001b[39m\u001b[38;5;124m\"\u001b[39m\u001b[38;5;124mIPython won\u001b[39m\u001b[38;5;124m'\u001b[39m\u001b[38;5;124mt let you open fd=\u001b[39m\u001b[38;5;132;01m{\u001b[39;00mfile\u001b[38;5;132;01m}\u001b[39;00m\u001b[38;5;124m by default \u001b[39m\u001b[38;5;124m\"\u001b[39m\n\u001b[0;32m    320\u001b[0m         \u001b[38;5;124m\"\u001b[39m\u001b[38;5;124mas it is likely to crash IPython. If you know what you are doing, \u001b[39m\u001b[38;5;124m\"\u001b[39m\n\u001b[0;32m    321\u001b[0m         \u001b[38;5;124m\"\u001b[39m\u001b[38;5;124myou can use builtins\u001b[39m\u001b[38;5;124m'\u001b[39m\u001b[38;5;124m open.\u001b[39m\u001b[38;5;124m\"\u001b[39m\n\u001b[0;32m    322\u001b[0m     )\n\u001b[1;32m--> 324\u001b[0m \u001b[38;5;28;01mreturn\u001b[39;00m io_open(file, \u001b[38;5;241m*\u001b[39margs, \u001b[38;5;241m*\u001b[39m\u001b[38;5;241m*\u001b[39mkwargs)\n",
      "\u001b[1;31mFileNotFoundError\u001b[0m: [Errno 2] No such file or directory: 'text.txt'"
     ]
    }
   ],
   "source": [
    "f = open(\"text.txt\", \"r\")"
   ]
  },
  {
   "cell_type": "code",
   "execution_count": 5,
   "id": "c0a16708-c14a-44de-b66b-ffbbb2d8ca94",
   "metadata": {},
   "outputs": [
    {
     "ename": "NameError",
     "evalue": "name 'f' is not defined",
     "output_type": "error",
     "traceback": [
      "\u001b[1;31m---------------------------------------------------------------------------\u001b[0m",
      "\u001b[1;31mNameError\u001b[0m                                 Traceback (most recent call last)",
      "Cell \u001b[1;32mIn[5], line 1\u001b[0m\n\u001b[1;32m----> 1\u001b[0m f\u001b[38;5;241m.\u001b[39mread()\n",
      "\u001b[1;31mNameError\u001b[0m: name 'f' is not defined"
     ]
    }
   ],
   "source": [
    "f.read()"
   ]
  },
  {
   "cell_type": "code",
   "execution_count": 7,
   "id": "39befb7d-060d-4cfd-ad8f-8c07a34622a3",
   "metadata": {},
   "outputs": [],
   "source": [
    "s = \"This is a nice way to learn Data Science\""
   ]
  },
  {
   "cell_type": "code",
   "execution_count": 9,
   "id": "0704465b-9c30-4679-b035-55090b40a15f",
   "metadata": {},
   "outputs": [
    {
     "ename": "NameError",
     "evalue": "name 'f' is not defined",
     "output_type": "error",
     "traceback": [
      "\u001b[1;31m---------------------------------------------------------------------------\u001b[0m",
      "\u001b[1;31mNameError\u001b[0m                                 Traceback (most recent call last)",
      "Cell \u001b[1;32mIn[9], line 1\u001b[0m\n\u001b[1;32m----> 1\u001b[0m f\u001b[38;5;241m.\u001b[39mclose()\n",
      "\u001b[1;31mNameError\u001b[0m: name 'f' is not defined"
     ]
    }
   ],
   "source": [
    "f.close()"
   ]
  },
  {
   "cell_type": "code",
   "execution_count": 11,
   "id": "70e62e31-2d5a-4b00-a288-fd366181a168",
   "metadata": {},
   "outputs": [],
   "source": [
    "f = open(\"harry.txt\", \"w\")"
   ]
  },
  {
   "cell_type": "code",
   "execution_count": 13,
   "id": "c32e3485-a61c-416e-b4f8-a634c299207d",
   "metadata": {},
   "outputs": [
    {
     "data": {
      "text/plain": [
       "40"
      ]
     },
     "execution_count": 13,
     "metadata": {},
     "output_type": "execute_result"
    }
   ],
   "source": [
    "f.write(s)"
   ]
  },
  {
   "cell_type": "code",
   "execution_count": 15,
   "id": "a768859d-917e-41c1-8e46-453522d8f9be",
   "metadata": {},
   "outputs": [],
   "source": [
    "f.close()"
   ]
  },
  {
   "cell_type": "code",
   "execution_count": 18,
   "id": "76bd67ff-bf72-49b6-b4fc-e80744582d0f",
   "metadata": {},
   "outputs": [],
   "source": [
    "import os\n",
    "\n",
    "os.remove(\"harry.txt\")\n"
   ]
  },
  {
   "cell_type": "code",
   "execution_count": 20,
   "id": "a7f5af81-6d20-4189-ab16-2158be10f2dd",
   "metadata": {},
   "outputs": [
    {
     "ename": "FileNotFoundError",
     "evalue": "[Errno 2] No such file or directory: 'harry.txt'",
     "output_type": "error",
     "traceback": [
      "\u001b[1;31m---------------------------------------------------------------------------\u001b[0m",
      "\u001b[1;31mFileNotFoundError\u001b[0m                         Traceback (most recent call last)",
      "Cell \u001b[1;32mIn[20], line 1\u001b[0m\n\u001b[1;32m----> 1\u001b[0m f \u001b[38;5;241m=\u001b[39m \u001b[38;5;28mopen\u001b[39m(\u001b[38;5;124m\"\u001b[39m\u001b[38;5;124mharry.txt\u001b[39m\u001b[38;5;124m\"\u001b[39m, \u001b[38;5;124m\"\u001b[39m\u001b[38;5;124mr\u001b[39m\u001b[38;5;124m\"\u001b[39m)\n",
      "File \u001b[1;32m~\\anaconda3\\Lib\\site-packages\\IPython\\core\\interactiveshell.py:324\u001b[0m, in \u001b[0;36m_modified_open\u001b[1;34m(file, *args, **kwargs)\u001b[0m\n\u001b[0;32m    317\u001b[0m \u001b[38;5;28;01mif\u001b[39;00m file \u001b[38;5;129;01min\u001b[39;00m {\u001b[38;5;241m0\u001b[39m, \u001b[38;5;241m1\u001b[39m, \u001b[38;5;241m2\u001b[39m}:\n\u001b[0;32m    318\u001b[0m     \u001b[38;5;28;01mraise\u001b[39;00m \u001b[38;5;167;01mValueError\u001b[39;00m(\n\u001b[0;32m    319\u001b[0m         \u001b[38;5;124mf\u001b[39m\u001b[38;5;124m\"\u001b[39m\u001b[38;5;124mIPython won\u001b[39m\u001b[38;5;124m'\u001b[39m\u001b[38;5;124mt let you open fd=\u001b[39m\u001b[38;5;132;01m{\u001b[39;00mfile\u001b[38;5;132;01m}\u001b[39;00m\u001b[38;5;124m by default \u001b[39m\u001b[38;5;124m\"\u001b[39m\n\u001b[0;32m    320\u001b[0m         \u001b[38;5;124m\"\u001b[39m\u001b[38;5;124mas it is likely to crash IPython. If you know what you are doing, \u001b[39m\u001b[38;5;124m\"\u001b[39m\n\u001b[0;32m    321\u001b[0m         \u001b[38;5;124m\"\u001b[39m\u001b[38;5;124myou can use builtins\u001b[39m\u001b[38;5;124m'\u001b[39m\u001b[38;5;124m open.\u001b[39m\u001b[38;5;124m\"\u001b[39m\n\u001b[0;32m    322\u001b[0m     )\n\u001b[1;32m--> 324\u001b[0m \u001b[38;5;28;01mreturn\u001b[39;00m io_open(file, \u001b[38;5;241m*\u001b[39margs, \u001b[38;5;241m*\u001b[39m\u001b[38;5;241m*\u001b[39mkwargs)\n",
      "\u001b[1;31mFileNotFoundError\u001b[0m: [Errno 2] No such file or directory: 'harry.txt'"
     ]
    }
   ],
   "source": [
    "f = open(\"harry.txt\", \"r\")"
   ]
  },
  {
   "cell_type": "code",
   "execution_count": null,
   "id": "ae1a57d6-2861-43de-90ef-44f3c61a1543",
   "metadata": {},
   "outputs": [],
   "source": []
  }
 ],
 "metadata": {
  "kernelspec": {
   "display_name": "Python [conda env:base] *",
   "language": "python",
   "name": "conda-base-py"
  },
  "language_info": {
   "codemirror_mode": {
    "name": "ipython",
    "version": 3
   },
   "file_extension": ".py",
   "mimetype": "text/x-python",
   "name": "python",
   "nbconvert_exporter": "python",
   "pygments_lexer": "ipython3",
   "version": "3.12.3"
  }
 },
 "nbformat": 4,
 "nbformat_minor": 5
}
